{
 "cells": [
  {
   "cell_type": "code",
   "execution_count": 111,
   "id": "3fd3d985",
   "metadata": {},
   "outputs": [],
   "source": [
    "import pandas as pd\n",
    "import numpy as np\n",
    "import seaborn as sns\n",
    "from matplotlib import pyplot as plt\n",
    "from sklearn import preprocessing"
   ]
  },
  {
   "cell_type": "code",
   "execution_count": 3,
   "id": "5608e18d",
   "metadata": {},
   "outputs": [],
   "source": [
    "df = pd.read_csv('train_loan_data.csv')"
   ]
  },
  {
   "cell_type": "code",
   "execution_count": 4,
   "id": "7a888785",
   "metadata": {},
   "outputs": [
    {
     "data": {
      "text/plain": [
       "Index(['addr_state', 'annual_inc', 'earliest_cr_line', 'emp_length',\n",
       "       'emp_title', 'fico_range_high', 'fico_range_low', 'grade',\n",
       "       'home_ownership', 'application_type', 'initial_list_status', 'int_rate',\n",
       "       'loan_amnt', 'num_actv_bc_tl', 'mort_acc', 'tot_cur_bal', 'open_acc',\n",
       "       'pub_rec', 'pub_rec_bankruptcies', 'purpose', 'revol_bal', 'revol_util',\n",
       "       'sub_grade', 'term', 'title', 'total_acc', 'verification_status',\n",
       "       'loan_status'],\n",
       "      dtype='object')"
      ]
     },
     "execution_count": 4,
     "metadata": {},
     "output_type": "execute_result"
    }
   ],
   "source": [
    "df.columns\n"
   ]
  },
  {
   "cell_type": "code",
   "execution_count": 5,
   "id": "22a0821a",
   "metadata": {},
   "outputs": [
    {
     "data": {
      "text/plain": [
       "(80000, 28)"
      ]
     },
     "execution_count": 5,
     "metadata": {},
     "output_type": "execute_result"
    }
   ],
   "source": [
    "df.shape\n"
   ]
  },
  {
   "cell_type": "code",
   "execution_count": 6,
   "id": "cd4fdea1",
   "metadata": {},
   "outputs": [
    {
     "data": {
      "text/html": [
       "<div>\n",
       "<style scoped>\n",
       "    .dataframe tbody tr th:only-of-type {\n",
       "        vertical-align: middle;\n",
       "    }\n",
       "\n",
       "    .dataframe tbody tr th {\n",
       "        vertical-align: top;\n",
       "    }\n",
       "\n",
       "    .dataframe thead th {\n",
       "        text-align: right;\n",
       "    }\n",
       "</style>\n",
       "<table border=\"1\" class=\"dataframe\">\n",
       "  <thead>\n",
       "    <tr style=\"text-align: right;\">\n",
       "      <th></th>\n",
       "      <th>addr_state</th>\n",
       "      <th>annual_inc</th>\n",
       "      <th>earliest_cr_line</th>\n",
       "      <th>emp_length</th>\n",
       "      <th>emp_title</th>\n",
       "      <th>fico_range_high</th>\n",
       "      <th>fico_range_low</th>\n",
       "      <th>grade</th>\n",
       "      <th>home_ownership</th>\n",
       "      <th>application_type</th>\n",
       "      <th>...</th>\n",
       "      <th>pub_rec_bankruptcies</th>\n",
       "      <th>purpose</th>\n",
       "      <th>revol_bal</th>\n",
       "      <th>revol_util</th>\n",
       "      <th>sub_grade</th>\n",
       "      <th>term</th>\n",
       "      <th>title</th>\n",
       "      <th>total_acc</th>\n",
       "      <th>verification_status</th>\n",
       "      <th>loan_status</th>\n",
       "    </tr>\n",
       "  </thead>\n",
       "  <tbody>\n",
       "    <tr>\n",
       "      <th>0</th>\n",
       "      <td>CO</td>\n",
       "      <td>85000.0</td>\n",
       "      <td>Jul-1997</td>\n",
       "      <td>10+ years</td>\n",
       "      <td>Deputy</td>\n",
       "      <td>744.0</td>\n",
       "      <td>740.0</td>\n",
       "      <td>E</td>\n",
       "      <td>MORTGAGE</td>\n",
       "      <td>Individual</td>\n",
       "      <td>...</td>\n",
       "      <td>0.0</td>\n",
       "      <td>debt_consolidation</td>\n",
       "      <td>5338.0</td>\n",
       "      <td>93.6</td>\n",
       "      <td>E1</td>\n",
       "      <td>60 months</td>\n",
       "      <td>Debt consolidation</td>\n",
       "      <td>8.0</td>\n",
       "      <td>Source Verified</td>\n",
       "      <td>Charged Off</td>\n",
       "    </tr>\n",
       "    <tr>\n",
       "      <th>1</th>\n",
       "      <td>CA</td>\n",
       "      <td>40000.0</td>\n",
       "      <td>Apr-1987</td>\n",
       "      <td>10+ years</td>\n",
       "      <td>Department of Veterans Affairs</td>\n",
       "      <td>724.0</td>\n",
       "      <td>720.0</td>\n",
       "      <td>B</td>\n",
       "      <td>RENT</td>\n",
       "      <td>Individual</td>\n",
       "      <td>...</td>\n",
       "      <td>0.0</td>\n",
       "      <td>debt_consolidation</td>\n",
       "      <td>19944.0</td>\n",
       "      <td>60.3</td>\n",
       "      <td>B1</td>\n",
       "      <td>36 months</td>\n",
       "      <td>Credit Loan</td>\n",
       "      <td>12.0</td>\n",
       "      <td>Verified</td>\n",
       "      <td>Fully Paid</td>\n",
       "    </tr>\n",
       "    <tr>\n",
       "      <th>2</th>\n",
       "      <td>FL</td>\n",
       "      <td>60000.0</td>\n",
       "      <td>Aug-2007</td>\n",
       "      <td>10+ years</td>\n",
       "      <td>Marble polishing</td>\n",
       "      <td>679.0</td>\n",
       "      <td>675.0</td>\n",
       "      <td>B</td>\n",
       "      <td>MORTGAGE</td>\n",
       "      <td>Individual</td>\n",
       "      <td>...</td>\n",
       "      <td>0.0</td>\n",
       "      <td>debt_consolidation</td>\n",
       "      <td>23199.0</td>\n",
       "      <td>88.5</td>\n",
       "      <td>B5</td>\n",
       "      <td>36 months</td>\n",
       "      <td>Debt consolidation</td>\n",
       "      <td>16.0</td>\n",
       "      <td>Source Verified</td>\n",
       "      <td>Fully Paid</td>\n",
       "    </tr>\n",
       "    <tr>\n",
       "      <th>3</th>\n",
       "      <td>IL</td>\n",
       "      <td>100742.0</td>\n",
       "      <td>Sep-1980</td>\n",
       "      <td>10+ years</td>\n",
       "      <td>printer</td>\n",
       "      <td>664.0</td>\n",
       "      <td>660.0</td>\n",
       "      <td>B</td>\n",
       "      <td>MORTGAGE</td>\n",
       "      <td>Individual</td>\n",
       "      <td>...</td>\n",
       "      <td>0.0</td>\n",
       "      <td>debt_consolidation</td>\n",
       "      <td>18425.0</td>\n",
       "      <td>69.0</td>\n",
       "      <td>B2</td>\n",
       "      <td>36 months</td>\n",
       "      <td>Debt consolidation</td>\n",
       "      <td>19.0</td>\n",
       "      <td>Source Verified</td>\n",
       "      <td>Fully Paid</td>\n",
       "    </tr>\n",
       "    <tr>\n",
       "      <th>4</th>\n",
       "      <td>MD</td>\n",
       "      <td>80000.0</td>\n",
       "      <td>Jul-1999</td>\n",
       "      <td>10+ years</td>\n",
       "      <td>Southern Mgmt</td>\n",
       "      <td>669.0</td>\n",
       "      <td>665.0</td>\n",
       "      <td>F</td>\n",
       "      <td>RENT</td>\n",
       "      <td>Individual</td>\n",
       "      <td>...</td>\n",
       "      <td>0.0</td>\n",
       "      <td>debt_consolidation</td>\n",
       "      <td>34370.0</td>\n",
       "      <td>90.0</td>\n",
       "      <td>F5</td>\n",
       "      <td>60 months</td>\n",
       "      <td>Debt Connsolidation</td>\n",
       "      <td>59.0</td>\n",
       "      <td>Verified</td>\n",
       "      <td>Fully Paid</td>\n",
       "    </tr>\n",
       "  </tbody>\n",
       "</table>\n",
       "<p>5 rows × 28 columns</p>\n",
       "</div>"
      ],
      "text/plain": [
       "  addr_state  annual_inc earliest_cr_line emp_length  \\\n",
       "0         CO     85000.0         Jul-1997  10+ years   \n",
       "1         CA     40000.0         Apr-1987  10+ years   \n",
       "2         FL     60000.0         Aug-2007  10+ years   \n",
       "3         IL    100742.0         Sep-1980  10+ years   \n",
       "4         MD     80000.0         Jul-1999  10+ years   \n",
       "\n",
       "                        emp_title  fico_range_high  fico_range_low grade  \\\n",
       "0                          Deputy            744.0           740.0     E   \n",
       "1  Department of Veterans Affairs            724.0           720.0     B   \n",
       "2                Marble polishing            679.0           675.0     B   \n",
       "3                         printer            664.0           660.0     B   \n",
       "4                   Southern Mgmt            669.0           665.0     F   \n",
       "\n",
       "  home_ownership application_type  ... pub_rec_bankruptcies  \\\n",
       "0       MORTGAGE       Individual  ...                  0.0   \n",
       "1           RENT       Individual  ...                  0.0   \n",
       "2       MORTGAGE       Individual  ...                  0.0   \n",
       "3       MORTGAGE       Individual  ...                  0.0   \n",
       "4           RENT       Individual  ...                  0.0   \n",
       "\n",
       "              purpose  revol_bal  revol_util  sub_grade        term  \\\n",
       "0  debt_consolidation     5338.0        93.6         E1   60 months   \n",
       "1  debt_consolidation    19944.0        60.3         B1   36 months   \n",
       "2  debt_consolidation    23199.0        88.5         B5   36 months   \n",
       "3  debt_consolidation    18425.0        69.0         B2   36 months   \n",
       "4  debt_consolidation    34370.0        90.0         F5   60 months   \n",
       "\n",
       "                 title  total_acc  verification_status  loan_status  \n",
       "0   Debt consolidation        8.0      Source Verified  Charged Off  \n",
       "1          Credit Loan       12.0             Verified   Fully Paid  \n",
       "2   Debt consolidation       16.0      Source Verified   Fully Paid  \n",
       "3   Debt consolidation       19.0      Source Verified   Fully Paid  \n",
       "4  Debt Connsolidation       59.0             Verified   Fully Paid  \n",
       "\n",
       "[5 rows x 28 columns]"
      ]
     },
     "execution_count": 6,
     "metadata": {},
     "output_type": "execute_result"
    }
   ],
   "source": [
    "df.head()"
   ]
  },
  {
   "cell_type": "code",
   "execution_count": 7,
   "id": "289e7d34",
   "metadata": {},
   "outputs": [
    {
     "name": "stdout",
     "output_type": "stream",
     "text": [
      "<class 'pandas.core.frame.DataFrame'>\n",
      "RangeIndex: 80000 entries, 0 to 79999\n",
      "Data columns (total 28 columns):\n",
      " #   Column                Non-Null Count  Dtype  \n",
      "---  ------                --------------  -----  \n",
      " 0   addr_state            80000 non-null  object \n",
      " 1   annual_inc            80000 non-null  float64\n",
      " 2   earliest_cr_line      80000 non-null  object \n",
      " 3   emp_length            75412 non-null  object \n",
      " 4   emp_title             74982 non-null  object \n",
      " 5   fico_range_high       80000 non-null  float64\n",
      " 6   fico_range_low        80000 non-null  float64\n",
      " 7   grade                 80000 non-null  object \n",
      " 8   home_ownership        80000 non-null  object \n",
      " 9   application_type      80000 non-null  object \n",
      " 10  initial_list_status   80000 non-null  object \n",
      " 11  int_rate              80000 non-null  float64\n",
      " 12  loan_amnt             80000 non-null  float64\n",
      " 13  num_actv_bc_tl        76052 non-null  float64\n",
      " 14  mort_acc              77229 non-null  float64\n",
      " 15  tot_cur_bal           76052 non-null  float64\n",
      " 16  open_acc              80000 non-null  float64\n",
      " 17  pub_rec               80000 non-null  float64\n",
      " 18  pub_rec_bankruptcies  79969 non-null  float64\n",
      " 19  purpose               80000 non-null  object \n",
      " 20  revol_bal             80000 non-null  float64\n",
      " 21  revol_util            79947 non-null  float64\n",
      " 22  sub_grade             80000 non-null  object \n",
      " 23  term                  80000 non-null  object \n",
      " 24  title                 79030 non-null  object \n",
      " 25  total_acc             80000 non-null  float64\n",
      " 26  verification_status   80000 non-null  object \n",
      " 27  loan_status           80000 non-null  object \n",
      "dtypes: float64(14), object(14)\n",
      "memory usage: 17.1+ MB\n"
     ]
    }
   ],
   "source": [
    "df.info()"
   ]
  },
  {
   "cell_type": "code",
   "execution_count": 8,
   "id": "27216781",
   "metadata": {},
   "outputs": [
    {
     "data": {
      "text/plain": [
       "addr_state              0.00\n",
       "annual_inc              0.00\n",
       "earliest_cr_line        0.00\n",
       "emp_length              5.74\n",
       "emp_title               6.27\n",
       "fico_range_high         0.00\n",
       "fico_range_low          0.00\n",
       "grade                   0.00\n",
       "home_ownership          0.00\n",
       "application_type        0.00\n",
       "initial_list_status     0.00\n",
       "int_rate                0.00\n",
       "loan_amnt               0.00\n",
       "num_actv_bc_tl          4.93\n",
       "mort_acc                3.46\n",
       "tot_cur_bal             4.93\n",
       "open_acc                0.00\n",
       "pub_rec                 0.00\n",
       "pub_rec_bankruptcies    0.04\n",
       "purpose                 0.00\n",
       "revol_bal               0.00\n",
       "revol_util              0.07\n",
       "sub_grade               0.00\n",
       "term                    0.00\n",
       "title                   1.21\n",
       "total_acc               0.00\n",
       "verification_status     0.00\n",
       "loan_status             0.00\n",
       "dtype: float64"
      ]
     },
     "execution_count": 8,
     "metadata": {},
     "output_type": "execute_result"
    }
   ],
   "source": [
    "#Null percent\n",
    "Nan_per = df.isnull().sum()/df.shape[0]*100\n",
    "Nan_per.round(2)"
   ]
  },
  {
   "cell_type": "markdown",
   "id": "3a3bd2bf",
   "metadata": {},
   "source": [
    "# Imputation for Null Value Treatment"
   ]
  },
  {
   "cell_type": "markdown",
   "id": "62c4ec6c",
   "metadata": {},
   "source": [
    "Emp_length"
   ]
  },
  {
   "cell_type": "code",
   "execution_count": 9,
   "id": "83cfb6ad",
   "metadata": {},
   "outputs": [],
   "source": [
    "#Employee tenure\n",
    "df['emp_length'] = df['emp_length'].fillna(df['emp_length'].mode()[0])"
   ]
  },
  {
   "cell_type": "code",
   "execution_count": 10,
   "id": "16dc6436",
   "metadata": {},
   "outputs": [
    {
     "data": {
      "text/plain": [
       "array(['10+ years', '3 years', '< 1 year', '1 year', '8 years', '7 years',\n",
       "       '4 years', '2 years', '5 years', '6 years', '9 years'],\n",
       "      dtype=object)"
      ]
     },
     "execution_count": 10,
     "metadata": {},
     "output_type": "execute_result"
    }
   ],
   "source": [
    "df['emp_length'].unique()"
   ]
  },
  {
   "cell_type": "code",
   "execution_count": 11,
   "id": "ee720dea",
   "metadata": {},
   "outputs": [],
   "source": [
    "df['emp_length'].replace({'10+ years':'10','< 1 year':'0'},inplace =True)"
   ]
  },
  {
   "cell_type": "code",
   "execution_count": 12,
   "id": "fc77e766",
   "metadata": {},
   "outputs": [
    {
     "data": {
      "text/plain": [
       "array(['10', '3 years', '0', '1 year', '8 years', '7 years', '4 years',\n",
       "       '2 years', '5 years', '6 years', '9 years'], dtype=object)"
      ]
     },
     "execution_count": 12,
     "metadata": {},
     "output_type": "execute_result"
    }
   ],
   "source": [
    "df['emp_length'].unique()"
   ]
  },
  {
   "cell_type": "code",
   "execution_count": 13,
   "id": "8cd21f7a",
   "metadata": {},
   "outputs": [],
   "source": [
    "df['emp_length'] = df['emp_length'].str.extract('(\\d+)')"
   ]
  },
  {
   "cell_type": "code",
   "execution_count": 14,
   "id": "308f9695",
   "metadata": {},
   "outputs": [],
   "source": [
    "df['emp_length'] = df['emp_length'].astype(int)"
   ]
  },
  {
   "cell_type": "code",
   "execution_count": 15,
   "id": "953ad5ae",
   "metadata": {},
   "outputs": [
    {
     "data": {
      "text/plain": [
       "array([10,  3,  0,  1,  8,  7,  4,  2,  5,  6,  9])"
      ]
     },
     "execution_count": 15,
     "metadata": {},
     "output_type": "execute_result"
    }
   ],
   "source": [
    "df['emp_length'].unique()"
   ]
  },
  {
   "cell_type": "code",
   "execution_count": 16,
   "id": "d4ce3537",
   "metadata": {},
   "outputs": [
    {
     "data": {
      "text/plain": [
       "10    30866\n",
       "2      7319\n",
       "3      6474\n",
       "0      6297\n",
       "1      5294\n",
       "5      5094\n",
       "4      4763\n",
       "6      3691\n",
       "7      3597\n",
       "8      3583\n",
       "9      3022\n",
       "Name: emp_length, dtype: int64"
      ]
     },
     "execution_count": 16,
     "metadata": {},
     "output_type": "execute_result"
    }
   ],
   "source": [
    "df['emp_length'].value_counts()"
   ]
  },
  {
   "cell_type": "markdown",
   "id": "c05a6bb6",
   "metadata": {},
   "source": [
    "emp_title "
   ]
  },
  {
   "cell_type": "code",
   "execution_count": 17,
   "id": "2362bcc1",
   "metadata": {},
   "outputs": [
    {
     "data": {
      "text/plain": [
       "Teacher                         1278\n",
       "Manager                         1194\n",
       "Owner                            592\n",
       "RN                               526\n",
       "Registered Nurse                 517\n",
       "                                ... \n",
       "Support Services Coordinator       1\n",
       "C&E Auburn V-Twin, Inc.            1\n",
       "Media manager                      1\n",
       "MERCHANDISER                       1\n",
       "Sports Group Manager               1\n",
       "Name: emp_title, Length: 36661, dtype: int64"
      ]
     },
     "execution_count": 17,
     "metadata": {},
     "output_type": "execute_result"
    }
   ],
   "source": [
    "\n",
    "title = list(df['emp_title'].unique())\n",
    "df['emp_title'].value_counts()\n"
   ]
  },
  {
   "cell_type": "code",
   "execution_count": 19,
   "id": "1c457695",
   "metadata": {},
   "outputs": [],
   "source": [
    "#Employee title has too many diverse values and there is no clear pattern for distinction\n",
    "# Dropping this column\n",
    "df = df.drop(columns='emp_title')"
   ]
  },
  {
   "cell_type": "markdown",
   "id": "3dcd5170",
   "metadata": {},
   "source": [
    "num_actv_bc_tl"
   ]
  },
  {
   "cell_type": "code",
   "execution_count": 20,
   "id": "ada3baaa",
   "metadata": {},
   "outputs": [
    {
     "data": {
      "text/plain": [
       "3.0     16176\n",
       "2.0     15722\n",
       "4.0     12483\n",
       "1.0      8824\n",
       "5.0      8426\n",
       "6.0      5246\n",
       "7.0      3032\n",
       "8.0      1762\n",
       "0.0      1662\n",
       "9.0      1085\n",
       "10.0      665\n",
       "11.0      386\n",
       "12.0      219\n",
       "13.0      143\n",
       "14.0       77\n",
       "15.0       46\n",
       "16.0       31\n",
       "17.0       24\n",
       "18.0       14\n",
       "19.0        9\n",
       "21.0        6\n",
       "22.0        4\n",
       "20.0        3\n",
       "26.0        3\n",
       "25.0        1\n",
       "24.0        1\n",
       "27.0        1\n",
       "32.0        1\n",
       "Name: num_actv_bc_tl, dtype: int64"
      ]
     },
     "execution_count": 20,
     "metadata": {},
     "output_type": "execute_result"
    }
   ],
   "source": [
    "#Active bank acc - mode\n",
    "df['num_actv_bc_tl'].value_counts()"
   ]
  },
  {
   "cell_type": "code",
   "execution_count": 21,
   "id": "533de4af",
   "metadata": {},
   "outputs": [
    {
     "data": {
      "text/plain": [
       "3948"
      ]
     },
     "execution_count": 21,
     "metadata": {},
     "output_type": "execute_result"
    }
   ],
   "source": [
    "df['num_actv_bc_tl'].isna().sum()"
   ]
  },
  {
   "cell_type": "code",
   "execution_count": 23,
   "id": "b74458a8",
   "metadata": {},
   "outputs": [
    {
     "data": {
      "text/plain": [
       "(3.6337900383947823, 3.0, 3.0)"
      ]
     },
     "execution_count": 23,
     "metadata": {},
     "output_type": "execute_result"
    }
   ],
   "source": [
    "#Mean, Mode and Median\n",
    "df['num_actv_bc_tl'].mean(),df['num_actv_bc_tl'].mode()[0],df['num_actv_bc_tl'].median()"
   ]
  },
  {
   "cell_type": "code",
   "execution_count": 24,
   "id": "953fd86d",
   "metadata": {},
   "outputs": [],
   "source": [
    "#Imputing with Mode \n",
    "df['num_actv_bc_tl'] = df['num_actv_bc_tl'].fillna(df['num_actv_bc_tl'].mode()[0])"
   ]
  },
  {
   "cell_type": "code",
   "execution_count": null,
   "id": "b9938b6a",
   "metadata": {},
   "outputs": [],
   "source": [
    "#Null percent\n",
    "Nan_per = df.isnull().sum()/df.shape[0]*100\n",
    "Nan_per.round(2)"
   ]
  },
  {
   "cell_type": "markdown",
   "id": "7042c4b1",
   "metadata": {},
   "source": [
    "mort_acc"
   ]
  },
  {
   "cell_type": "code",
   "execution_count": 27,
   "id": "71a8a133",
   "metadata": {},
   "outputs": [
    {
     "data": {
      "text/plain": [
       "(1.6747594815419078, 0.0, 1.0)"
      ]
     },
     "execution_count": 27,
     "metadata": {},
     "output_type": "execute_result"
    }
   ],
   "source": [
    "#Imputing Mortgage acc with mode\n",
    "#Mortgage acc - Mode\n",
    "df['mort_acc'].mean(),df['mort_acc'].mode()[0],df['mort_acc'].median()"
   ]
  },
  {
   "cell_type": "code",
   "execution_count": 28,
   "id": "3a0d8528",
   "metadata": {},
   "outputs": [
    {
     "data": {
      "text/plain": [
       "0.0     31079\n",
       "1.0     13527\n",
       "2.0     11142\n",
       "3.0      8339\n",
       "4.0      5713\n",
       "5.0      3408\n",
       "6.0      1967\n",
       "7.0       997\n",
       "8.0       509\n",
       "9.0       268\n",
       "10.0      118\n",
       "11.0       60\n",
       "12.0       34\n",
       "13.0       20\n",
       "15.0       12\n",
       "14.0       12\n",
       "16.0        8\n",
       "18.0        3\n",
       "26.0        2\n",
       "20.0        2\n",
       "24.0        2\n",
       "32.0        1\n",
       "22.0        1\n",
       "19.0        1\n",
       "27.0        1\n",
       "31.0        1\n",
       "17.0        1\n",
       "29.0        1\n",
       "Name: mort_acc, dtype: int64"
      ]
     },
     "execution_count": 28,
     "metadata": {},
     "output_type": "execute_result"
    }
   ],
   "source": [
    "df['mort_acc'].value_counts()"
   ]
  },
  {
   "cell_type": "code",
   "execution_count": 29,
   "id": "1b0fe06d",
   "metadata": {},
   "outputs": [],
   "source": [
    "#Imputing with Mode\n",
    "df['mort_acc'] = df['mort_acc'].fillna(df['mort_acc'].mode()[0])"
   ]
  },
  {
   "cell_type": "markdown",
   "id": "18c201fc",
   "metadata": {},
   "source": [
    "tot_cur_bal"
   ]
  },
  {
   "cell_type": "code",
   "execution_count": 33,
   "id": "8bf69196",
   "metadata": {},
   "outputs": [
    {
     "data": {
      "text/plain": [
       "(0.14158635899121655, 0.0, 0.0810005)"
      ]
     },
     "execution_count": 33,
     "metadata": {},
     "output_type": "execute_result"
    }
   ],
   "source": [
    "#total current balance - median since outltier\n",
    "\n",
    "df['tot_cur_bal'].mean()/1000000,df['tot_cur_bal'].mode()[0]/1000000,df['tot_cur_bal'].median()/1000000"
   ]
  },
  {
   "cell_type": "code",
   "execution_count": 32,
   "id": "6aa3cfe5",
   "metadata": {},
   "outputs": [
    {
     "data": {
      "text/plain": [
       "<Axes: >"
      ]
     },
     "execution_count": 32,
     "metadata": {},
     "output_type": "execute_result"
    },
    {
     "data": {
      "image/png": "[encoded data removed]",
      "text/plain": [
       "<Figure size 640x480 with 1 Axes>"
      ]
     },
     "metadata": {},
     "output_type": "display_data"
    }
   ],
   "source": [
    "df['tot_cur_bal'].plot(kind = 'box')"
   ]
  },
  {
   "cell_type": "code",
   "execution_count": 34,
   "id": "f6af21da",
   "metadata": {},
   "outputs": [
    {
     "data": {
      "text/plain": [
       "0.0          22\n",
       "22946.0       5\n",
       "12213.0       5\n",
       "51409.0       5\n",
       "10772.0       5\n",
       "             ..\n",
       "288867.0      1\n",
       "294866.0      1\n",
       "34023.0       1\n",
       "40420.0       1\n",
       "3046776.0     1\n",
       "Name: tot_cur_bal, Length: 65410, dtype: int64"
      ]
     },
     "execution_count": 34,
     "metadata": {},
     "output_type": "execute_result"
    }
   ],
   "source": [
    "df['tot_cur_bal'].value_counts()"
   ]
  },
  {
   "cell_type": "code",
   "execution_count": 35,
   "id": "1201d594",
   "metadata": {},
   "outputs": [
    {
     "data": {
      "text/plain": [
       "<Axes: ylabel='Frequency'>"
      ]
     },
     "execution_count": 35,
     "metadata": {},
     "output_type": "execute_result"
    },
    {
     "data": {
      "image/png": "[encoded data removed]",
      "text/plain": [
       "<Figure size 640x480 with 1 Axes>"
      ]
     },
     "metadata": {},
     "output_type": "display_data"
    }
   ],
   "source": [
    "df['tot_cur_bal'].plot(kind = 'hist')"
   ]
  },
  {
   "cell_type": "code",
   "execution_count": 36,
   "id": "2a9719f1",
   "metadata": {},
   "outputs": [],
   "source": [
    "#Imputing with Mean due to oultiers\n",
    "df['tot_cur_bal'] = df['tot_cur_bal'].fillna(df['tot_cur_bal'].median())"
   ]
  },
  {
   "cell_type": "markdown",
   "id": "2919c875",
   "metadata": {},
   "source": [
    "revol_util"
   ]
  },
  {
   "cell_type": "code",
   "execution_count": 37,
   "id": "c8b2743f",
   "metadata": {},
   "outputs": [],
   "source": [
    "# Revolve util null perc so small- drop the null values\n",
    "df = df[~df['revol_util'].isna()]"
   ]
  },
  {
   "cell_type": "markdown",
   "id": "6a7b2af1",
   "metadata": {},
   "source": [
    "title"
   ]
  },
  {
   "cell_type": "code",
   "execution_count": 38,
   "id": "f5b074de",
   "metadata": {},
   "outputs": [
    {
     "data": {
      "text/plain": [
       "5340"
      ]
     },
     "execution_count": 38,
     "metadata": {},
     "output_type": "execute_result"
    }
   ],
   "source": [
    "# Title\n",
    "df['title'].nunique()\n",
    "#High cardinality . so drop"
   ]
  },
  {
   "cell_type": "code",
   "execution_count": 39,
   "id": "8e5dac90",
   "metadata": {},
   "outputs": [
    {
     "data": {
      "text/plain": [
       "array(['Debt consolidation', 'Credit Loan', 'Debt Connsolidation', ...,\n",
       "       'cr card payoff', 'Debt in one place', 'Consolidate 2012'],\n",
       "      dtype=object)"
      ]
     },
     "execution_count": 39,
     "metadata": {},
     "output_type": "execute_result"
    }
   ],
   "source": [
    "df['title'].unique()"
   ]
  },
  {
   "cell_type": "code",
   "execution_count": 40,
   "id": "81708842",
   "metadata": {},
   "outputs": [
    {
     "data": {
      "text/plain": [
       "Debt consolidation                  39378\n",
       "Credit card refinancing             14799\n",
       "Home improvement                     4533\n",
       "Other                                4029\n",
       "Major purchase                       1422\n",
       "                                    ...  \n",
       "CREDIT PAYMENT                          1\n",
       "DebtConsolidate                         1\n",
       "Card consolidation                      1\n",
       "Purchase of an ultrasonic welder        1\n",
       "Consolidate 2012                        1\n",
       "Name: title, Length: 5340, dtype: int64"
      ]
     },
     "execution_count": 40,
     "metadata": {},
     "output_type": "execute_result"
    }
   ],
   "source": [
    "df['title'].value_counts()"
   ]
  },
  {
   "cell_type": "code",
   "execution_count": 41,
   "id": "a6ac7769",
   "metadata": {},
   "outputs": [],
   "source": [
    "#title has too many diverse values and there is no clear pattern for distinction\n",
    "# Dropping this column\n",
    "df = df.drop(columns='title')"
   ]
  },
  {
   "cell_type": "markdown",
   "id": "209dee83",
   "metadata": {},
   "source": [
    "pub_rec_bankruptcies"
   ]
  },
  {
   "cell_type": "code",
   "execution_count": 42,
   "id": "00e714ad",
   "metadata": {},
   "outputs": [],
   "source": [
    "# Revolve util null perc so small- drop\n",
    "df = df[~df['pub_rec_bankruptcies'].isna()]"
   ]
  },
  {
   "cell_type": "code",
   "execution_count": 43,
   "id": "a389091b",
   "metadata": {},
   "outputs": [
    {
     "data": {
      "text/plain": [
       "addr_state              0\n",
       "annual_inc              0\n",
       "earliest_cr_line        0\n",
       "emp_length              0\n",
       "fico_range_high         0\n",
       "fico_range_low          0\n",
       "grade                   0\n",
       "home_ownership          0\n",
       "application_type        0\n",
       "initial_list_status     0\n",
       "int_rate                0\n",
       "loan_amnt               0\n",
       "num_actv_bc_tl          0\n",
       "mort_acc                0\n",
       "tot_cur_bal             0\n",
       "open_acc                0\n",
       "pub_rec                 0\n",
       "pub_rec_bankruptcies    0\n",
       "purpose                 0\n",
       "revol_bal               0\n",
       "revol_util              0\n",
       "sub_grade               0\n",
       "term                    0\n",
       "total_acc               0\n",
       "verification_status     0\n",
       "loan_status             0\n",
       "dtype: int64"
      ]
     },
     "execution_count": 43,
     "metadata": {},
     "output_type": "execute_result"
    }
   ],
   "source": [
    "# Null Value Treatment complete\n",
    "df.isna().sum()"
   ]
  },
  {
   "cell_type": "markdown",
   "id": "a7efc24a",
   "metadata": {},
   "source": [
    "# EDA"
   ]
  },
  {
   "cell_type": "code",
   "execution_count": 44,
   "id": "11c4ddb1",
   "metadata": {},
   "outputs": [
    {
     "name": "stdout",
     "output_type": "stream",
     "text": [
      "<class 'pandas.core.frame.DataFrame'>\n",
      "Int64Index: 79916 entries, 0 to 79999\n",
      "Data columns (total 26 columns):\n",
      " #   Column                Non-Null Count  Dtype  \n",
      "---  ------                --------------  -----  \n",
      " 0   addr_state            79916 non-null  object \n",
      " 1   annual_inc            79916 non-null  float64\n",
      " 2   earliest_cr_line      79916 non-null  object \n",
      " 3   emp_length            79916 non-null  int32  \n",
      " 4   fico_range_high       79916 non-null  float64\n",
      " 5   fico_range_low        79916 non-null  float64\n",
      " 6   grade                 79916 non-null  object \n",
      " 7   home_ownership        79916 non-null  object \n",
      " 8   application_type      79916 non-null  object \n",
      " 9   initial_list_status   79916 non-null  object \n",
      " 10  int_rate              79916 non-null  float64\n",
      " 11  loan_amnt             79916 non-null  float64\n",
      " 12  num_actv_bc_tl        79916 non-null  float64\n",
      " 13  mort_acc              79916 non-null  float64\n",
      " 14  tot_cur_bal           79916 non-null  float64\n",
      " 15  open_acc              79916 non-null  float64\n",
      " 16  pub_rec               79916 non-null  float64\n",
      " 17  pub_rec_bankruptcies  79916 non-null  float64\n",
      " 18  purpose               79916 non-null  object \n",
      " 19  revol_bal             79916 non-null  float64\n",
      " 20  revol_util            79916 non-null  float64\n",
      " 21  sub_grade             79916 non-null  object \n",
      " 22  term                  79916 non-null  object \n",
      " 23  total_acc             79916 non-null  float64\n",
      " 24  verification_status   79916 non-null  object \n",
      " 25  loan_status           79916 non-null  object \n",
      "dtypes: float64(14), int32(1), object(11)\n",
      "memory usage: 16.2+ MB\n"
     ]
    }
   ],
   "source": [
    "df.info()"
   ]
  },
  {
   "cell_type": "code",
   "execution_count": 46,
   "id": "46970225",
   "metadata": {},
   "outputs": [],
   "source": [
    "# Replacing Loan status with 1 and 0\n",
    "df['loan_status'] = df['loan_status'].replace({'Fully Paid':1,'Charged Off':0})"
   ]
  },
  {
   "cell_type": "code",
   "execution_count": 47,
   "id": "2bfd90f1",
   "metadata": {},
   "outputs": [
    {
     "data": {
      "text/plain": [
       "1    80.03779\n",
       "0    19.96221\n",
       "Name: loan_status, dtype: float64"
      ]
     },
     "execution_count": 47,
     "metadata": {},
     "output_type": "execute_result"
    }
   ],
   "source": [
    "# Checking Target value distribution\n",
    "df['loan_status'].value_counts(normalize=True) * 100"
   ]
  },
  {
   "cell_type": "markdown",
   "id": "3c7eacbf",
   "metadata": {},
   "source": [
    " We see approx 80/20 ratio for classification. no need to upsample/down sample"
   ]
  },
  {
   "cell_type": "markdown",
   "id": "354caff5",
   "metadata": {},
   "source": [
    "# Univariate Analysis"
   ]
  },
  {
   "cell_type": "markdown",
   "id": "11804b91",
   "metadata": {},
   "source": [
    "addr_state"
   ]
  },
  {
   "cell_type": "code",
   "execution_count": 48,
   "id": "ac3c020c",
   "metadata": {},
   "outputs": [],
   "source": [
    "# Checking state wise target variable distiribution\n",
    "\n",
    "state_loan_status = pd.pivot_table(df,index='addr_state',columns='loan_status',aggfunc={'addr_state': \"count\"}).reset_index()"
   ]
  },
  {
   "cell_type": "code",
   "execution_count": 49,
   "id": "f9b6782f",
   "metadata": {},
   "outputs": [],
   "source": [
    "state_loan_status.columns = ['State','Failure','Success']"
   ]
  },
  {
   "cell_type": "code",
   "execution_count": 50,
   "id": "9abff77c",
   "metadata": {},
   "outputs": [
    {
     "data": {
      "text/plain": [
       "Index(['State', 'Failure', 'Success'], dtype='object')"
      ]
     },
     "execution_count": 50,
     "metadata": {},
     "output_type": "execute_result"
    }
   ],
   "source": [
    "state_loan_status.columns"
   ]
  },
  {
   "cell_type": "code",
   "execution_count": 51,
   "id": "c6fe86b3",
   "metadata": {},
   "outputs": [],
   "source": [
    "state_loan_status['Success rate'] = state_loan_status['Success']/(state_loan_status['Failure']+state_loan_status['Success'])"
   ]
  },
  {
   "cell_type": "code",
   "execution_count": 52,
   "id": "ca8049ba",
   "metadata": {
    "scrolled": true
   },
   "outputs": [
    {
     "data": {
      "text/plain": [
       "<Axes: xlabel='State', ylabel='Success rate'>"
      ]
     },
     "execution_count": 52,
     "metadata": {},
     "output_type": "execute_result"
    },
    {
     "data": {
      "image/png": "[encoded data removed]",
      "text/plain": [
       "<Figure size 640x480 with 1 Axes>"
      ]
     },
     "metadata": {},
     "output_type": "display_data"
    }
   ],
   "source": [
    "sns.barplot(state_loan_status,x='State',y='Success rate' )"
   ]
  },
  {
   "cell_type": "markdown",
   "id": "3fc7d3a4",
   "metadata": {},
   "source": [
    "We see that state address does not have much impact on credit default.\n",
    "Hence dropping this column"
   ]
  },
  {
   "cell_type": "code",
   "execution_count": 53,
   "id": "b7a87c8a",
   "metadata": {},
   "outputs": [],
   "source": [
    "\n",
    "df = df.drop(columns = 'addr_state')"
   ]
  },
  {
   "cell_type": "code",
   "execution_count": 54,
   "id": "aee2dc82",
   "metadata": {},
   "outputs": [
    {
     "data": {
      "text/plain": [
       "Index(['annual_inc', 'earliest_cr_line', 'emp_length', 'fico_range_high',\n",
       "       'fico_range_low', 'grade', 'home_ownership', 'application_type',\n",
       "       'initial_list_status', 'int_rate', 'loan_amnt', 'num_actv_bc_tl',\n",
       "       'mort_acc', 'tot_cur_bal', 'open_acc', 'pub_rec',\n",
       "       'pub_rec_bankruptcies', 'purpose', 'revol_bal', 'revol_util',\n",
       "       'sub_grade', 'term', 'total_acc', 'verification_status', 'loan_status'],\n",
       "      dtype='object')"
      ]
     },
     "execution_count": 54,
     "metadata": {},
     "output_type": "execute_result"
    }
   ],
   "source": [
    "df.columns\n"
   ]
  },
  {
   "cell_type": "markdown",
   "id": "d703888f",
   "metadata": {},
   "source": [
    "earliest_cr_line"
   ]
  },
  {
   "cell_type": "code",
   "execution_count": 60,
   "id": "02b244dc",
   "metadata": {},
   "outputs": [],
   "source": [
    "#Converting earliest_cr_line to datetime and checking the no. of months from current date\n",
    "df['earliest_cr_line'] = pd.to_datetime(df['earliest_cr_line'])"
   ]
  },
  {
   "cell_type": "code",
   "execution_count": 65,
   "id": "740a2ccf",
   "metadata": {},
   "outputs": [
    {
     "data": {
      "text/plain": [
       "Timestamp('2015-08-01 00:00:00')"
      ]
     },
     "execution_count": 65,
     "metadata": {},
     "output_type": "execute_result"
    }
   ],
   "source": [
    "x = list(df['earliest_cr_line'])\n",
    "x.sort()\n",
    "x[-1]"
   ]
  },
  {
   "cell_type": "code",
   "execution_count": 69,
   "id": "f1288184",
   "metadata": {},
   "outputs": [],
   "source": [
    "#Assuming Jan 2016 as the base date\n",
    "base_date = pd.to_datetime('Jan-2016')\n",
    "df['no_months'] = ((base_date - df.earliest_cr_line)/np.timedelta64(1, 'M'))\n",
    "df['no_months'] = round(df['no_months'])"
   ]
  },
  {
   "cell_type": "code",
   "execution_count": 71,
   "id": "1c2fd693",
   "metadata": {},
   "outputs": [
    {
     "data": {
      "text/plain": [
       "<Axes: xlabel='no_months', ylabel='loan_status'>"
      ]
     },
     "execution_count": 71,
     "metadata": {},
     "output_type": "execute_result"
    },
    {
     "data": {
      "image/png": "[encoded data removed]",
      "text/plain": [
       "<Figure size 640x480 with 1 Axes>"
      ]
     },
     "metadata": {},
     "output_type": "display_data"
    }
   ],
   "source": [
    "sns.scatterplot(x =df['no_months'],y=df['loan_status'])"
   ]
  },
  {
   "cell_type": "code",
   "execution_count": 72,
   "id": "c92925c0",
   "metadata": {},
   "outputs": [],
   "source": [
    "#Dropping earliest_cr_line column\n",
    "df = df.drop(columns='earliest_cr_line')"
   ]
  },
  {
   "cell_type": "markdown",
   "id": "0874da3e",
   "metadata": {},
   "source": [
    "fico_range_high & fico_range_low"
   ]
  },
  {
   "cell_type": "code",
   "execution_count": 73,
   "id": "543bf3e4",
   "metadata": {},
   "outputs": [],
   "source": [
    "#Assigning FICO score into buckets\n",
    "conditions_high= [(df['fico_range_high']<=580),(df['fico_range_high']<=669)&(df['fico_range_high']>580),(df['fico_range_high']<=739)&(df['fico_range_high']>669),(df['fico_range_high']<=800)&(df['fico_range_high']>739),(df['fico_range_high']>800)]\n",
    "conditions_low= [(df['fico_range_low']<=580),(df['fico_range_low']<=669)&(df['fico_range_low']>580),(df['fico_range_low']<=739)&(df['fico_range_low']>669),(df['fico_range_low']<=800)&(df['fico_range_low']>739),(df['fico_range_low']>800)]\n",
    "values = [1,2,3,4,5]\n",
    "df['fico_high'] = np.select(conditions_high,values)\n",
    "df['fico_low'] = np.select(conditions_low,values)"
   ]
  },
  {
   "cell_type": "code",
   "execution_count": 74,
   "id": "011592ab",
   "metadata": {},
   "outputs": [],
   "source": [
    "#Dropping fico_range_high and fico_range_low columns\n",
    "df = df.drop(columns=['fico_range_high','fico_range_low'])"
   ]
  },
  {
   "cell_type": "code",
   "execution_count": 75,
   "id": "4c0e0f21",
   "metadata": {},
   "outputs": [
    {
     "data": {
      "text/plain": [
       "Index(['annual_inc', 'emp_length', 'grade', 'home_ownership',\n",
       "       'application_type', 'initial_list_status', 'int_rate', 'loan_amnt',\n",
       "       'num_actv_bc_tl', 'mort_acc', 'tot_cur_bal', 'open_acc', 'pub_rec',\n",
       "       'pub_rec_bankruptcies', 'purpose', 'revol_bal', 'revol_util',\n",
       "       'sub_grade', 'term', 'total_acc', 'verification_status', 'loan_status',\n",
       "       'no_months', 'fico_high', 'fico_low'],\n",
       "      dtype='object')"
      ]
     },
     "execution_count": 75,
     "metadata": {},
     "output_type": "execute_result"
    }
   ],
   "source": [
    "df.columns"
   ]
  },
  {
   "cell_type": "markdown",
   "id": "739b8268",
   "metadata": {},
   "source": [
    "term"
   ]
  },
  {
   "cell_type": "code",
   "execution_count": 80,
   "id": "babb8eac",
   "metadata": {},
   "outputs": [],
   "source": [
    "#Since only two possible values are present, assigning categorical label\n",
    "df['term'] = df['term'].replace({' 60 months':'Long', ' 36 months':'Short'})"
   ]
  },
  {
   "cell_type": "code",
   "execution_count": 81,
   "id": "eac3f4fc",
   "metadata": {},
   "outputs": [
    {
     "data": {
      "text/plain": [
       "array(['Long', 'Short'], dtype=object)"
      ]
     },
     "execution_count": 81,
     "metadata": {},
     "output_type": "execute_result"
    }
   ],
   "source": [
    "df['term'].unique()"
   ]
  },
  {
   "cell_type": "code",
   "execution_count": 90,
   "id": "66b5a724",
   "metadata": {},
   "outputs": [
    {
     "data": {
      "image/png": "[encoded data removed]",
      "text/plain": [
       "<Figure size 640x480 with 1 Axes>"
      ]
     },
     "metadata": {},
     "output_type": "display_data"
    },
    {
     "data": {
      "image/png": "[encoded data removed]",
      "text/plain": [
       "<Figure size 640x480 with 1 Axes>"
      ]
     },
     "metadata": {},
     "output_type": "display_data"
    }
   ],
   "source": [
    "#Public records\n",
    "for i in ['pub_rec','pub_rec_bankruptcies']:\n",
    "    sns.countplot(df,x=i,hue='loan_status')\n",
    "    plt.title(i)\n",
    "    plt.xlabel(i)\n",
    "    plt.ylabel('Count')\n",
    "    plt.show()"
   ]
  },
  {
   "cell_type": "code",
   "execution_count": 91,
   "id": "bd51f554",
   "metadata": {},
   "outputs": [
    {
     "data": {
      "text/plain": [
       "0.0     0.829483\n",
       "1.0     0.142562\n",
       "2.0     0.017644\n",
       "3.0     0.006144\n",
       "4.0     0.002365\n",
       "5.0     0.000901\n",
       "6.0     0.000488\n",
       "8.0     0.000150\n",
       "7.0     0.000150\n",
       "11.0    0.000038\n",
       "10.0    0.000025\n",
       "13.0    0.000013\n",
       "24.0    0.000013\n",
       "15.0    0.000013\n",
       "9.0     0.000013\n",
       "Name: pub_rec, dtype: float64"
      ]
     },
     "execution_count": 91,
     "metadata": {},
     "output_type": "execute_result"
    }
   ],
   "source": [
    "df['pub_rec'].value_counts(normalize=True)"
   ]
  },
  {
   "cell_type": "code",
   "execution_count": 92,
   "id": "459d5c75",
   "metadata": {},
   "outputs": [
    {
     "data": {
      "text/plain": [
       "0.0    0.873555\n",
       "1.0    0.118399\n",
       "2.0    0.006044\n",
       "3.0    0.001477\n",
       "4.0    0.000413\n",
       "5.0    0.000088\n",
       "7.0    0.000013\n",
       "6.0    0.000013\n",
       "Name: pub_rec_bankruptcies, dtype: float64"
      ]
     },
     "execution_count": 92,
     "metadata": {},
     "output_type": "execute_result"
    }
   ],
   "source": [
    "df['pub_rec_bankruptcies'].value_counts(normalize=True)"
   ]
  },
  {
   "cell_type": "code",
   "execution_count": 93,
   "id": "423a61a2",
   "metadata": {},
   "outputs": [
    {
     "data": {
      "text/plain": [
       "array(['debt_consolidation', 'home_improvement', 'credit_card', 'other',\n",
       "       'small_business', 'medical', 'major_purchase', 'car', 'vacation',\n",
       "       'house', 'moving', 'wedding', 'renewable_energy', 'educational'],\n",
       "      dtype=object)"
      ]
     },
     "execution_count": 93,
     "metadata": {},
     "output_type": "execute_result"
    }
   ],
   "source": [
    "#Purpose\n",
    "df['purpose'].unique()"
   ]
  },
  {
   "cell_type": "code",
   "execution_count": 94,
   "id": "86fb54a9",
   "metadata": {},
   "outputs": [
    {
     "data": {
      "text/plain": [
       "array(['Source Verified', 'Verified', 'Not Verified'], dtype=object)"
      ]
     },
     "execution_count": 94,
     "metadata": {},
     "output_type": "execute_result"
    }
   ],
   "source": [
    "#verification_status\n",
    "df['verification_status'].unique()"
   ]
  },
  {
   "cell_type": "markdown",
   "id": "626c006e",
   "metadata": {},
   "source": [
    "For annual_inc,loan_amnt,tot_cur_bal,revol_bal Outlier treatment is not done because these are open ended figures."
   ]
  },
  {
   "cell_type": "code",
   "execution_count": 95,
   "id": "f4bbda73",
   "metadata": {},
   "outputs": [],
   "source": []
  },
  {
   "cell_type": "code",
   "execution_count": 102,
   "id": "e4df90b9",
   "metadata": {},
   "outputs": [],
   "source": [
    "# Bifurcating Numerical and Categorical columns\n",
    "\n",
    "num_col = df.drop(columns='loan_status').select_dtypes(include=np.number).columns\n",
    "cat_col = df.select_dtypes(exclude=np.number).columns\n",
    "\n",
    "df_target = df[['loan_status']]\n",
    "df_num = df[num_col]\n",
    "df_cat = df[cat_col]"
   ]
  },
  {
   "cell_type": "code",
   "execution_count": 103,
   "id": "2cb98b7e",
   "metadata": {},
   "outputs": [
    {
     "data": {
      "text/html": [
       "<div>\n",
       "<style scoped>\n",
       "    .dataframe tbody tr th:only-of-type {\n",
       "        vertical-align: middle;\n",
       "    }\n",
       "\n",
       "    .dataframe tbody tr th {\n",
       "        vertical-align: top;\n",
       "    }\n",
       "\n",
       "    .dataframe thead th {\n",
       "        text-align: right;\n",
       "    }\n",
       "</style>\n",
       "<table border=\"1\" class=\"dataframe\">\n",
       "  <thead>\n",
       "    <tr style=\"text-align: right;\">\n",
       "      <th></th>\n",
       "      <th>annual_inc</th>\n",
       "      <th>emp_length</th>\n",
       "      <th>int_rate</th>\n",
       "      <th>loan_amnt</th>\n",
       "      <th>num_actv_bc_tl</th>\n",
       "      <th>mort_acc</th>\n",
       "      <th>tot_cur_bal</th>\n",
       "      <th>open_acc</th>\n",
       "      <th>pub_rec</th>\n",
       "      <th>pub_rec_bankruptcies</th>\n",
       "      <th>revol_bal</th>\n",
       "      <th>revol_util</th>\n",
       "      <th>total_acc</th>\n",
       "      <th>no_months</th>\n",
       "      <th>fico_high</th>\n",
       "      <th>fico_low</th>\n",
       "    </tr>\n",
       "  </thead>\n",
       "  <tbody>\n",
       "    <tr>\n",
       "      <th>0</th>\n",
       "      <td>85000.0</td>\n",
       "      <td>10</td>\n",
       "      <td>18.99</td>\n",
       "      <td>18075.0</td>\n",
       "      <td>1.0</td>\n",
       "      <td>1.0</td>\n",
       "      <td>319479.0</td>\n",
       "      <td>7.0</td>\n",
       "      <td>0.0</td>\n",
       "      <td>0.0</td>\n",
       "      <td>5338.0</td>\n",
       "      <td>93.6</td>\n",
       "      <td>8.0</td>\n",
       "      <td>222.0</td>\n",
       "      <td>4</td>\n",
       "      <td>4</td>\n",
       "    </tr>\n",
       "    <tr>\n",
       "      <th>1</th>\n",
       "      <td>40000.0</td>\n",
       "      <td>10</td>\n",
       "      <td>10.16</td>\n",
       "      <td>8800.0</td>\n",
       "      <td>4.0</td>\n",
       "      <td>0.0</td>\n",
       "      <td>19944.0</td>\n",
       "      <td>5.0</td>\n",
       "      <td>0.0</td>\n",
       "      <td>0.0</td>\n",
       "      <td>19944.0</td>\n",
       "      <td>60.3</td>\n",
       "      <td>12.0</td>\n",
       "      <td>345.0</td>\n",
       "      <td>3</td>\n",
       "      <td>3</td>\n",
       "    </tr>\n",
       "    <tr>\n",
       "      <th>2</th>\n",
       "      <td>60000.0</td>\n",
       "      <td>10</td>\n",
       "      <td>11.47</td>\n",
       "      <td>18000.0</td>\n",
       "      <td>4.0</td>\n",
       "      <td>2.0</td>\n",
       "      <td>23199.0</td>\n",
       "      <td>7.0</td>\n",
       "      <td>0.0</td>\n",
       "      <td>0.0</td>\n",
       "      <td>23199.0</td>\n",
       "      <td>88.5</td>\n",
       "      <td>16.0</td>\n",
       "      <td>101.0</td>\n",
       "      <td>3</td>\n",
       "      <td>3</td>\n",
       "    </tr>\n",
       "    <tr>\n",
       "      <th>3</th>\n",
       "      <td>100742.0</td>\n",
       "      <td>10</td>\n",
       "      <td>9.16</td>\n",
       "      <td>20000.0</td>\n",
       "      <td>4.0</td>\n",
       "      <td>1.0</td>\n",
       "      <td>72651.0</td>\n",
       "      <td>12.0</td>\n",
       "      <td>0.0</td>\n",
       "      <td>0.0</td>\n",
       "      <td>18425.0</td>\n",
       "      <td>69.0</td>\n",
       "      <td>19.0</td>\n",
       "      <td>424.0</td>\n",
       "      <td>2</td>\n",
       "      <td>2</td>\n",
       "    </tr>\n",
       "    <tr>\n",
       "      <th>4</th>\n",
       "      <td>80000.0</td>\n",
       "      <td>10</td>\n",
       "      <td>23.83</td>\n",
       "      <td>35000.0</td>\n",
       "      <td>14.0</td>\n",
       "      <td>7.0</td>\n",
       "      <td>64631.0</td>\n",
       "      <td>23.0</td>\n",
       "      <td>0.0</td>\n",
       "      <td>0.0</td>\n",
       "      <td>34370.0</td>\n",
       "      <td>90.0</td>\n",
       "      <td>59.0</td>\n",
       "      <td>198.0</td>\n",
       "      <td>2</td>\n",
       "      <td>2</td>\n",
       "    </tr>\n",
       "  </tbody>\n",
       "</table>\n",
       "</div>"
      ],
      "text/plain": [
       "   annual_inc  emp_length  int_rate  loan_amnt  num_actv_bc_tl  mort_acc  \\\n",
       "0     85000.0          10     18.99    18075.0             1.0       1.0   \n",
       "1     40000.0          10     10.16     8800.0             4.0       0.0   \n",
       "2     60000.0          10     11.47    18000.0             4.0       2.0   \n",
       "3    100742.0          10      9.16    20000.0             4.0       1.0   \n",
       "4     80000.0          10     23.83    35000.0            14.0       7.0   \n",
       "\n",
       "   tot_cur_bal  open_acc  pub_rec  pub_rec_bankruptcies  revol_bal  \\\n",
       "0     319479.0       7.0      0.0                   0.0     5338.0   \n",
       "1      19944.0       5.0      0.0                   0.0    19944.0   \n",
       "2      23199.0       7.0      0.0                   0.0    23199.0   \n",
       "3      72651.0      12.0      0.0                   0.0    18425.0   \n",
       "4      64631.0      23.0      0.0                   0.0    34370.0   \n",
       "\n",
       "   revol_util  total_acc  no_months  fico_high  fico_low  \n",
       "0        93.6        8.0      222.0          4         4  \n",
       "1        60.3       12.0      345.0          3         3  \n",
       "2        88.5       16.0      101.0          3         3  \n",
       "3        69.0       19.0      424.0          2         2  \n",
       "4        90.0       59.0      198.0          2         2  "
      ]
     },
     "execution_count": 103,
     "metadata": {},
     "output_type": "execute_result"
    }
   ],
   "source": [
    "df_num.head()"
   ]
  },
  {
   "cell_type": "code",
   "execution_count": 104,
   "id": "6e191757",
   "metadata": {},
   "outputs": [
    {
     "data": {
      "text/html": [
       "<div>\n",
       "<style scoped>\n",
       "    .dataframe tbody tr th:only-of-type {\n",
       "        vertical-align: middle;\n",
       "    }\n",
       "\n",
       "    .dataframe tbody tr th {\n",
       "        vertical-align: top;\n",
       "    }\n",
       "\n",
       "    .dataframe thead th {\n",
       "        text-align: right;\n",
       "    }\n",
       "</style>\n",
       "<table border=\"1\" class=\"dataframe\">\n",
       "  <thead>\n",
       "    <tr style=\"text-align: right;\">\n",
       "      <th></th>\n",
       "      <th>grade</th>\n",
       "      <th>home_ownership</th>\n",
       "      <th>application_type</th>\n",
       "      <th>initial_list_status</th>\n",
       "      <th>purpose</th>\n",
       "      <th>sub_grade</th>\n",
       "      <th>term</th>\n",
       "      <th>verification_status</th>\n",
       "    </tr>\n",
       "  </thead>\n",
       "  <tbody>\n",
       "    <tr>\n",
       "      <th>0</th>\n",
       "      <td>E</td>\n",
       "      <td>MORTGAGE</td>\n",
       "      <td>Individual</td>\n",
       "      <td>w</td>\n",
       "      <td>debt_consolidation</td>\n",
       "      <td>E1</td>\n",
       "      <td>Long</td>\n",
       "      <td>Source Verified</td>\n",
       "    </tr>\n",
       "    <tr>\n",
       "      <th>1</th>\n",
       "      <td>B</td>\n",
       "      <td>RENT</td>\n",
       "      <td>Individual</td>\n",
       "      <td>w</td>\n",
       "      <td>debt_consolidation</td>\n",
       "      <td>B1</td>\n",
       "      <td>Short</td>\n",
       "      <td>Verified</td>\n",
       "    </tr>\n",
       "    <tr>\n",
       "      <th>2</th>\n",
       "      <td>B</td>\n",
       "      <td>MORTGAGE</td>\n",
       "      <td>Individual</td>\n",
       "      <td>w</td>\n",
       "      <td>debt_consolidation</td>\n",
       "      <td>B5</td>\n",
       "      <td>Short</td>\n",
       "      <td>Source Verified</td>\n",
       "    </tr>\n",
       "    <tr>\n",
       "      <th>3</th>\n",
       "      <td>B</td>\n",
       "      <td>MORTGAGE</td>\n",
       "      <td>Individual</td>\n",
       "      <td>w</td>\n",
       "      <td>debt_consolidation</td>\n",
       "      <td>B2</td>\n",
       "      <td>Short</td>\n",
       "      <td>Source Verified</td>\n",
       "    </tr>\n",
       "    <tr>\n",
       "      <th>4</th>\n",
       "      <td>F</td>\n",
       "      <td>RENT</td>\n",
       "      <td>Individual</td>\n",
       "      <td>f</td>\n",
       "      <td>debt_consolidation</td>\n",
       "      <td>F5</td>\n",
       "      <td>Long</td>\n",
       "      <td>Verified</td>\n",
       "    </tr>\n",
       "  </tbody>\n",
       "</table>\n",
       "</div>"
      ],
      "text/plain": [
       "  grade home_ownership application_type initial_list_status  \\\n",
       "0     E       MORTGAGE       Individual                   w   \n",
       "1     B           RENT       Individual                   w   \n",
       "2     B       MORTGAGE       Individual                   w   \n",
       "3     B       MORTGAGE       Individual                   w   \n",
       "4     F           RENT       Individual                   f   \n",
       "\n",
       "              purpose sub_grade   term verification_status  \n",
       "0  debt_consolidation        E1   Long     Source Verified  \n",
       "1  debt_consolidation        B1  Short            Verified  \n",
       "2  debt_consolidation        B5  Short     Source Verified  \n",
       "3  debt_consolidation        B2  Short     Source Verified  \n",
       "4  debt_consolidation        F5   Long            Verified  "
      ]
     },
     "execution_count": 104,
     "metadata": {},
     "output_type": "execute_result"
    }
   ],
   "source": [
    "df_cat.head()"
   ]
  },
  {
   "cell_type": "code",
   "execution_count": 105,
   "id": "097c9cd0",
   "metadata": {},
   "outputs": [
    {
     "data": {
      "text/html": [
       "<div>\n",
       "<style scoped>\n",
       "    .dataframe tbody tr th:only-of-type {\n",
       "        vertical-align: middle;\n",
       "    }\n",
       "\n",
       "    .dataframe tbody tr th {\n",
       "        vertical-align: top;\n",
       "    }\n",
       "\n",
       "    .dataframe thead th {\n",
       "        text-align: right;\n",
       "    }\n",
       "</style>\n",
       "<table border=\"1\" class=\"dataframe\">\n",
       "  <thead>\n",
       "    <tr style=\"text-align: right;\">\n",
       "      <th></th>\n",
       "      <th>loan_status</th>\n",
       "    </tr>\n",
       "  </thead>\n",
       "  <tbody>\n",
       "    <tr>\n",
       "      <th>0</th>\n",
       "      <td>0</td>\n",
       "    </tr>\n",
       "    <tr>\n",
       "      <th>1</th>\n",
       "      <td>1</td>\n",
       "    </tr>\n",
       "    <tr>\n",
       "      <th>2</th>\n",
       "      <td>1</td>\n",
       "    </tr>\n",
       "    <tr>\n",
       "      <th>3</th>\n",
       "      <td>1</td>\n",
       "    </tr>\n",
       "    <tr>\n",
       "      <th>4</th>\n",
       "      <td>1</td>\n",
       "    </tr>\n",
       "  </tbody>\n",
       "</table>\n",
       "</div>"
      ],
      "text/plain": [
       "   loan_status\n",
       "0            0\n",
       "1            1\n",
       "2            1\n",
       "3            1\n",
       "4            1"
      ]
     },
     "execution_count": 105,
     "metadata": {},
     "output_type": "execute_result"
    }
   ],
   "source": [
    "df_target.head()"
   ]
  },
  {
   "cell_type": "code",
   "execution_count": 106,
   "id": "f4e40d48",
   "metadata": {},
   "outputs": [
    {
     "data": {
      "text/plain": [
       "((79916, 16), (79916, 8), (79916, 1))"
      ]
     },
     "execution_count": 106,
     "metadata": {},
     "output_type": "execute_result"
    }
   ],
   "source": [
    "df_num.shape,df_cat.shape,df_target.shape"
   ]
  },
  {
   "cell_type": "code",
   "execution_count": 107,
   "id": "c7ca9920",
   "metadata": {},
   "outputs": [],
   "source": [
    "#Encoding Categorical Variables\n",
    "df_cat2 = pd.get_dummies(df_cat)"
   ]
  },
  {
   "cell_type": "code",
   "execution_count": 109,
   "id": "ee47c7c2",
   "metadata": {},
   "outputs": [
    {
     "data": {
      "text/plain": [
       "Index(['grade_A', 'grade_B', 'grade_C', 'grade_D', 'grade_E', 'grade_F',\n",
       "       'grade_G', 'home_ownership_ANY', 'home_ownership_MORTGAGE',\n",
       "       'home_ownership_NONE', 'home_ownership_OTHER', 'home_ownership_OWN',\n",
       "       'home_ownership_RENT', 'application_type_Individual',\n",
       "       'application_type_Joint App', 'initial_list_status_f',\n",
       "       'initial_list_status_w', 'purpose_car', 'purpose_credit_card',\n",
       "       'purpose_debt_consolidation', 'purpose_educational',\n",
       "       'purpose_home_improvement', 'purpose_house', 'purpose_major_purchase',\n",
       "       'purpose_medical', 'purpose_moving', 'purpose_other',\n",
       "       'purpose_renewable_energy', 'purpose_small_business',\n",
       "       'purpose_vacation', 'purpose_wedding', 'sub_grade_A1', 'sub_grade_A2',\n",
       "       'sub_grade_A3', 'sub_grade_A4', 'sub_grade_A5', 'sub_grade_B1',\n",
       "       'sub_grade_B2', 'sub_grade_B3', 'sub_grade_B4', 'sub_grade_B5',\n",
       "       'sub_grade_C1', 'sub_grade_C2', 'sub_grade_C3', 'sub_grade_C4',\n",
       "       'sub_grade_C5', 'sub_grade_D1', 'sub_grade_D2', 'sub_grade_D3',\n",
       "       'sub_grade_D4', 'sub_grade_D5', 'sub_grade_E1', 'sub_grade_E2',\n",
       "       'sub_grade_E3', 'sub_grade_E4', 'sub_grade_E5', 'sub_grade_F1',\n",
       "       'sub_grade_F2', 'sub_grade_F3', 'sub_grade_F4', 'sub_grade_F5',\n",
       "       'sub_grade_G1', 'sub_grade_G2', 'sub_grade_G3', 'sub_grade_G4',\n",
       "       'sub_grade_G5', 'term_Long', 'term_Short',\n",
       "       'verification_status_Not Verified',\n",
       "       'verification_status_Source Verified', 'verification_status_Verified'],\n",
       "      dtype='object')"
      ]
     },
     "execution_count": 109,
     "metadata": {},
     "output_type": "execute_result"
    }
   ],
   "source": [
    "df_cat2.columns"
   ]
  },
  {
   "cell_type": "code",
   "execution_count": 110,
   "id": "d0f7b422",
   "metadata": {
    "scrolled": false
   },
   "outputs": [
    {
     "data": {
      "text/html": [
       "<div>\n",
       "<style scoped>\n",
       "    .dataframe tbody tr th:only-of-type {\n",
       "        vertical-align: middle;\n",
       "    }\n",
       "\n",
       "    .dataframe tbody tr th {\n",
       "        vertical-align: top;\n",
       "    }\n",
       "\n",
       "    .dataframe thead th {\n",
       "        text-align: right;\n",
       "    }\n",
       "</style>\n",
       "<table border=\"1\" class=\"dataframe\">\n",
       "  <thead>\n",
       "    <tr style=\"text-align: right;\">\n",
       "      <th></th>\n",
       "      <th>grade_A</th>\n",
       "      <th>grade_B</th>\n",
       "      <th>grade_C</th>\n",
       "      <th>grade_D</th>\n",
       "      <th>grade_E</th>\n",
       "      <th>grade_F</th>\n",
       "      <th>grade_G</th>\n",
       "      <th>home_ownership_ANY</th>\n",
       "      <th>home_ownership_MORTGAGE</th>\n",
       "      <th>home_ownership_NONE</th>\n",
       "      <th>...</th>\n",
       "      <th>sub_grade_G1</th>\n",
       "      <th>sub_grade_G2</th>\n",
       "      <th>sub_grade_G3</th>\n",
       "      <th>sub_grade_G4</th>\n",
       "      <th>sub_grade_G5</th>\n",
       "      <th>term_Long</th>\n",
       "      <th>term_Short</th>\n",
       "      <th>verification_status_Not Verified</th>\n",
       "      <th>verification_status_Source Verified</th>\n",
       "      <th>verification_status_Verified</th>\n",
       "    </tr>\n",
       "  </thead>\n",
       "  <tbody>\n",
       "    <tr>\n",
       "      <th>0</th>\n",
       "      <td>0</td>\n",
       "      <td>0</td>\n",
       "      <td>0</td>\n",
       "      <td>0</td>\n",
       "      <td>1</td>\n",
       "      <td>0</td>\n",
       "      <td>0</td>\n",
       "      <td>0</td>\n",
       "      <td>1</td>\n",
       "      <td>0</td>\n",
       "      <td>...</td>\n",
       "      <td>0</td>\n",
       "      <td>0</td>\n",
       "      <td>0</td>\n",
       "      <td>0</td>\n",
       "      <td>0</td>\n",
       "      <td>1</td>\n",
       "      <td>0</td>\n",
       "      <td>0</td>\n",
       "      <td>1</td>\n",
       "      <td>0</td>\n",
       "    </tr>\n",
       "    <tr>\n",
       "      <th>1</th>\n",
       "      <td>0</td>\n",
       "      <td>1</td>\n",
       "      <td>0</td>\n",
       "      <td>0</td>\n",
       "      <td>0</td>\n",
       "      <td>0</td>\n",
       "      <td>0</td>\n",
       "      <td>0</td>\n",
       "      <td>0</td>\n",
       "      <td>0</td>\n",
       "      <td>...</td>\n",
       "      <td>0</td>\n",
       "      <td>0</td>\n",
       "      <td>0</td>\n",
       "      <td>0</td>\n",
       "      <td>0</td>\n",
       "      <td>0</td>\n",
       "      <td>1</td>\n",
       "      <td>0</td>\n",
       "      <td>0</td>\n",
       "      <td>1</td>\n",
       "    </tr>\n",
       "    <tr>\n",
       "      <th>2</th>\n",
       "      <td>0</td>\n",
       "      <td>1</td>\n",
       "      <td>0</td>\n",
       "      <td>0</td>\n",
       "      <td>0</td>\n",
       "      <td>0</td>\n",
       "      <td>0</td>\n",
       "      <td>0</td>\n",
       "      <td>1</td>\n",
       "      <td>0</td>\n",
       "      <td>...</td>\n",
       "      <td>0</td>\n",
       "      <td>0</td>\n",
       "      <td>0</td>\n",
       "      <td>0</td>\n",
       "      <td>0</td>\n",
       "      <td>0</td>\n",
       "      <td>1</td>\n",
       "      <td>0</td>\n",
       "      <td>1</td>\n",
       "      <td>0</td>\n",
       "    </tr>\n",
       "    <tr>\n",
       "      <th>3</th>\n",
       "      <td>0</td>\n",
       "      <td>1</td>\n",
       "      <td>0</td>\n",
       "      <td>0</td>\n",
       "      <td>0</td>\n",
       "      <td>0</td>\n",
       "      <td>0</td>\n",
       "      <td>0</td>\n",
       "      <td>1</td>\n",
       "      <td>0</td>\n",
       "      <td>...</td>\n",
       "      <td>0</td>\n",
       "      <td>0</td>\n",
       "      <td>0</td>\n",
       "      <td>0</td>\n",
       "      <td>0</td>\n",
       "      <td>0</td>\n",
       "      <td>1</td>\n",
       "      <td>0</td>\n",
       "      <td>1</td>\n",
       "      <td>0</td>\n",
       "    </tr>\n",
       "    <tr>\n",
       "      <th>4</th>\n",
       "      <td>0</td>\n",
       "      <td>0</td>\n",
       "      <td>0</td>\n",
       "      <td>0</td>\n",
       "      <td>0</td>\n",
       "      <td>1</td>\n",
       "      <td>0</td>\n",
       "      <td>0</td>\n",
       "      <td>0</td>\n",
       "      <td>0</td>\n",
       "      <td>...</td>\n",
       "      <td>0</td>\n",
       "      <td>0</td>\n",
       "      <td>0</td>\n",
       "      <td>0</td>\n",
       "      <td>0</td>\n",
       "      <td>1</td>\n",
       "      <td>0</td>\n",
       "      <td>0</td>\n",
       "      <td>0</td>\n",
       "      <td>1</td>\n",
       "    </tr>\n",
       "  </tbody>\n",
       "</table>\n",
       "<p>5 rows × 71 columns</p>\n",
       "</div>"
      ],
      "text/plain": [
       "   grade_A  grade_B  grade_C  grade_D  grade_E  grade_F  grade_G  \\\n",
       "0        0        0        0        0        1        0        0   \n",
       "1        0        1        0        0        0        0        0   \n",
       "2        0        1        0        0        0        0        0   \n",
       "3        0        1        0        0        0        0        0   \n",
       "4        0        0        0        0        0        1        0   \n",
       "\n",
       "   home_ownership_ANY  home_ownership_MORTGAGE  home_ownership_NONE  ...  \\\n",
       "0                   0                        1                    0  ...   \n",
       "1                   0                        0                    0  ...   \n",
       "2                   0                        1                    0  ...   \n",
       "3                   0                        1                    0  ...   \n",
       "4                   0                        0                    0  ...   \n",
       "\n",
       "   sub_grade_G1  sub_grade_G2  sub_grade_G3  sub_grade_G4  sub_grade_G5  \\\n",
       "0             0             0             0             0             0   \n",
       "1             0             0             0             0             0   \n",
       "2             0             0             0             0             0   \n",
       "3             0             0             0             0             0   \n",
       "4             0             0             0             0             0   \n",
       "\n",
       "   term_Long  term_Short  verification_status_Not Verified  \\\n",
       "0          1           0                                 0   \n",
       "1          0           1                                 0   \n",
       "2          0           1                                 0   \n",
       "3          0           1                                 0   \n",
       "4          1           0                                 0   \n",
       "\n",
       "   verification_status_Source Verified  verification_status_Verified  \n",
       "0                                    1                             0  \n",
       "1                                    0                             1  \n",
       "2                                    1                             0  \n",
       "3                                    1                             0  \n",
       "4                                    0                             1  \n",
       "\n",
       "[5 rows x 71 columns]"
      ]
     },
     "execution_count": 110,
     "metadata": {},
     "output_type": "execute_result"
    }
   ],
   "source": [
    "df_cat2.head()"
   ]
  },
  {
   "cell_type": "code",
   "execution_count": 114,
   "id": "a0e7be58",
   "metadata": {},
   "outputs": [],
   "source": [
    "min_max_scaler = preprocessing.MinMaxScaler()\n",
    "df_num_scaled = min_max_scaler.fit_transform(df_num)\n",
    "df_num_scaled = pd.DataFrame(df_num_scaled,columns=df_num.columns)"
   ]
  },
  {
   "cell_type": "code",
   "execution_count": 115,
   "id": "c73c972c",
   "metadata": {},
   "outputs": [
    {
     "data": {
      "text/html": [
       "<div>\n",
       "<style scoped>\n",
       "    .dataframe tbody tr th:only-of-type {\n",
       "        vertical-align: middle;\n",
       "    }\n",
       "\n",
       "    .dataframe tbody tr th {\n",
       "        vertical-align: top;\n",
       "    }\n",
       "\n",
       "    .dataframe thead th {\n",
       "        text-align: right;\n",
       "    }\n",
       "</style>\n",
       "<table border=\"1\" class=\"dataframe\">\n",
       "  <thead>\n",
       "    <tr style=\"text-align: right;\">\n",
       "      <th></th>\n",
       "      <th>annual_inc</th>\n",
       "      <th>emp_length</th>\n",
       "      <th>int_rate</th>\n",
       "      <th>loan_amnt</th>\n",
       "      <th>num_actv_bc_tl</th>\n",
       "      <th>mort_acc</th>\n",
       "      <th>tot_cur_bal</th>\n",
       "      <th>open_acc</th>\n",
       "      <th>pub_rec</th>\n",
       "      <th>pub_rec_bankruptcies</th>\n",
       "      <th>revol_bal</th>\n",
       "      <th>revol_util</th>\n",
       "      <th>total_acc</th>\n",
       "      <th>no_months</th>\n",
       "      <th>fico_high</th>\n",
       "      <th>fico_low</th>\n",
       "    </tr>\n",
       "  </thead>\n",
       "  <tbody>\n",
       "    <tr>\n",
       "      <th>0</th>\n",
       "      <td>0.011902</td>\n",
       "      <td>1.0</td>\n",
       "      <td>0.532710</td>\n",
       "      <td>0.437821</td>\n",
       "      <td>0.03125</td>\n",
       "      <td>0.03125</td>\n",
       "      <td>0.061769</td>\n",
       "      <td>0.075949</td>\n",
       "      <td>0.000000</td>\n",
       "      <td>0.000000</td>\n",
       "      <td>0.005213</td>\n",
       "      <td>0.613368</td>\n",
       "      <td>0.03750</td>\n",
       "      <td>0.252619</td>\n",
       "      <td>0.666667</td>\n",
       "      <td>0.666667</td>\n",
       "    </tr>\n",
       "    <tr>\n",
       "      <th>1</th>\n",
       "      <td>0.005601</td>\n",
       "      <td>1.0</td>\n",
       "      <td>0.188863</td>\n",
       "      <td>0.200000</td>\n",
       "      <td>0.12500</td>\n",
       "      <td>0.00000</td>\n",
       "      <td>0.003856</td>\n",
       "      <td>0.050633</td>\n",
       "      <td>0.000000</td>\n",
       "      <td>0.000000</td>\n",
       "      <td>0.019478</td>\n",
       "      <td>0.395151</td>\n",
       "      <td>0.06250</td>\n",
       "      <td>0.395809</td>\n",
       "      <td>0.333333</td>\n",
       "      <td>0.333333</td>\n",
       "    </tr>\n",
       "    <tr>\n",
       "      <th>2</th>\n",
       "      <td>0.008401</td>\n",
       "      <td>1.0</td>\n",
       "      <td>0.239875</td>\n",
       "      <td>0.435897</td>\n",
       "      <td>0.12500</td>\n",
       "      <td>0.06250</td>\n",
       "      <td>0.004485</td>\n",
       "      <td>0.075949</td>\n",
       "      <td>0.000000</td>\n",
       "      <td>0.000000</td>\n",
       "      <td>0.022657</td>\n",
       "      <td>0.579948</td>\n",
       "      <td>0.08750</td>\n",
       "      <td>0.111758</td>\n",
       "      <td>0.333333</td>\n",
       "      <td>0.333333</td>\n",
       "    </tr>\n",
       "    <tr>\n",
       "      <th>3</th>\n",
       "      <td>0.014106</td>\n",
       "      <td>1.0</td>\n",
       "      <td>0.149922</td>\n",
       "      <td>0.487179</td>\n",
       "      <td>0.12500</td>\n",
       "      <td>0.03125</td>\n",
       "      <td>0.014046</td>\n",
       "      <td>0.139241</td>\n",
       "      <td>0.000000</td>\n",
       "      <td>0.000000</td>\n",
       "      <td>0.017994</td>\n",
       "      <td>0.452163</td>\n",
       "      <td>0.10625</td>\n",
       "      <td>0.487776</td>\n",
       "      <td>0.000000</td>\n",
       "      <td>0.000000</td>\n",
       "    </tr>\n",
       "    <tr>\n",
       "      <th>4</th>\n",
       "      <td>0.011202</td>\n",
       "      <td>1.0</td>\n",
       "      <td>0.721184</td>\n",
       "      <td>0.871795</td>\n",
       "      <td>0.43750</td>\n",
       "      <td>0.21875</td>\n",
       "      <td>0.012496</td>\n",
       "      <td>0.278481</td>\n",
       "      <td>0.000000</td>\n",
       "      <td>0.000000</td>\n",
       "      <td>0.033566</td>\n",
       "      <td>0.589777</td>\n",
       "      <td>0.35625</td>\n",
       "      <td>0.224680</td>\n",
       "      <td>0.000000</td>\n",
       "      <td>0.000000</td>\n",
       "    </tr>\n",
       "    <tr>\n",
       "      <th>...</th>\n",
       "      <td>...</td>\n",
       "      <td>...</td>\n",
       "      <td>...</td>\n",
       "      <td>...</td>\n",
       "      <td>...</td>\n",
       "      <td>...</td>\n",
       "      <td>...</td>\n",
       "      <td>...</td>\n",
       "      <td>...</td>\n",
       "      <td>...</td>\n",
       "      <td>...</td>\n",
       "      <td>...</td>\n",
       "      <td>...</td>\n",
       "      <td>...</td>\n",
       "      <td>...</td>\n",
       "      <td>...</td>\n",
       "    </tr>\n",
       "    <tr>\n",
       "      <th>79911</th>\n",
       "      <td>0.011342</td>\n",
       "      <td>1.0</td>\n",
       "      <td>0.801402</td>\n",
       "      <td>0.637179</td>\n",
       "      <td>0.15625</td>\n",
       "      <td>0.12500</td>\n",
       "      <td>0.042636</td>\n",
       "      <td>0.139241</td>\n",
       "      <td>0.000000</td>\n",
       "      <td>0.000000</td>\n",
       "      <td>0.019729</td>\n",
       "      <td>0.612713</td>\n",
       "      <td>0.25000</td>\n",
       "      <td>0.216531</td>\n",
       "      <td>0.000000</td>\n",
       "      <td>0.000000</td>\n",
       "    </tr>\n",
       "    <tr>\n",
       "      <th>79912</th>\n",
       "      <td>0.006301</td>\n",
       "      <td>1.0</td>\n",
       "      <td>0.271807</td>\n",
       "      <td>0.153205</td>\n",
       "      <td>0.06250</td>\n",
       "      <td>0.06250</td>\n",
       "      <td>0.047520</td>\n",
       "      <td>0.075949</td>\n",
       "      <td>0.000000</td>\n",
       "      <td>0.000000</td>\n",
       "      <td>0.006001</td>\n",
       "      <td>0.372870</td>\n",
       "      <td>0.07500</td>\n",
       "      <td>0.279395</td>\n",
       "      <td>0.333333</td>\n",
       "      <td>0.333333</td>\n",
       "    </tr>\n",
       "    <tr>\n",
       "      <th>79913</th>\n",
       "      <td>0.012602</td>\n",
       "      <td>0.0</td>\n",
       "      <td>0.221184</td>\n",
       "      <td>0.153846</td>\n",
       "      <td>0.03125</td>\n",
       "      <td>0.09375</td>\n",
       "      <td>0.073910</td>\n",
       "      <td>0.101266</td>\n",
       "      <td>0.000000</td>\n",
       "      <td>0.000000</td>\n",
       "      <td>0.003819</td>\n",
       "      <td>0.167759</td>\n",
       "      <td>0.15000</td>\n",
       "      <td>0.144354</td>\n",
       "      <td>0.333333</td>\n",
       "      <td>0.333333</td>\n",
       "    </tr>\n",
       "    <tr>\n",
       "      <th>79914</th>\n",
       "      <td>0.013162</td>\n",
       "      <td>0.3</td>\n",
       "      <td>0.551402</td>\n",
       "      <td>0.435897</td>\n",
       "      <td>0.09375</td>\n",
       "      <td>0.09375</td>\n",
       "      <td>0.039024</td>\n",
       "      <td>0.189873</td>\n",
       "      <td>0.041667</td>\n",
       "      <td>0.142857</td>\n",
       "      <td>0.011619</td>\n",
       "      <td>0.323722</td>\n",
       "      <td>0.28750</td>\n",
       "      <td>0.325960</td>\n",
       "      <td>0.000000</td>\n",
       "      <td>0.000000</td>\n",
       "    </tr>\n",
       "    <tr>\n",
       "      <th>79915</th>\n",
       "      <td>0.154023</td>\n",
       "      <td>0.2</td>\n",
       "      <td>0.213006</td>\n",
       "      <td>0.487179</td>\n",
       "      <td>0.12500</td>\n",
       "      <td>0.06250</td>\n",
       "      <td>0.589069</td>\n",
       "      <td>0.151899</td>\n",
       "      <td>0.000000</td>\n",
       "      <td>0.000000</td>\n",
       "      <td>0.572552</td>\n",
       "      <td>0.633683</td>\n",
       "      <td>0.18750</td>\n",
       "      <td>0.225844</td>\n",
       "      <td>0.000000</td>\n",
       "      <td>0.000000</td>\n",
       "    </tr>\n",
       "  </tbody>\n",
       "</table>\n",
       "<p>79916 rows × 16 columns</p>\n",
       "</div>"
      ],
      "text/plain": [
       "       annual_inc  emp_length  int_rate  loan_amnt  num_actv_bc_tl  mort_acc  \\\n",
       "0        0.011902         1.0  0.532710   0.437821         0.03125   0.03125   \n",
       "1        0.005601         1.0  0.188863   0.200000         0.12500   0.00000   \n",
       "2        0.008401         1.0  0.239875   0.435897         0.12500   0.06250   \n",
       "3        0.014106         1.0  0.149922   0.487179         0.12500   0.03125   \n",
       "4        0.011202         1.0  0.721184   0.871795         0.43750   0.21875   \n",
       "...           ...         ...       ...        ...             ...       ...   \n",
       "79911    0.011342         1.0  0.801402   0.637179         0.15625   0.12500   \n",
       "79912    0.006301         1.0  0.271807   0.153205         0.06250   0.06250   \n",
       "79913    0.012602         0.0  0.221184   0.153846         0.03125   0.09375   \n",
       "79914    0.013162         0.3  0.551402   0.435897         0.09375   0.09375   \n",
       "79915    0.154023         0.2  0.213006   0.487179         0.12500   0.06250   \n",
       "\n",
       "       tot_cur_bal  open_acc   pub_rec  pub_rec_bankruptcies  revol_bal  \\\n",
       "0         0.061769  0.075949  0.000000              0.000000   0.005213   \n",
       "1         0.003856  0.050633  0.000000              0.000000   0.019478   \n",
       "2         0.004485  0.075949  0.000000              0.000000   0.022657   \n",
       "3         0.014046  0.139241  0.000000              0.000000   0.017994   \n",
       "4         0.012496  0.278481  0.000000              0.000000   0.033566   \n",
       "...            ...       ...       ...                   ...        ...   \n",
       "79911     0.042636  0.139241  0.000000              0.000000   0.019729   \n",
       "79912     0.047520  0.075949  0.000000              0.000000   0.006001   \n",
       "79913     0.073910  0.101266  0.000000              0.000000   0.003819   \n",
       "79914     0.039024  0.189873  0.041667              0.142857   0.011619   \n",
       "79915     0.589069  0.151899  0.000000              0.000000   0.572552   \n",
       "\n",
       "       revol_util  total_acc  no_months  fico_high  fico_low  \n",
       "0        0.613368    0.03750   0.252619   0.666667  0.666667  \n",
       "1        0.395151    0.06250   0.395809   0.333333  0.333333  \n",
       "2        0.579948    0.08750   0.111758   0.333333  0.333333  \n",
       "3        0.452163    0.10625   0.487776   0.000000  0.000000  \n",
       "4        0.589777    0.35625   0.224680   0.000000  0.000000  \n",
       "...           ...        ...        ...        ...       ...  \n",
       "79911    0.612713    0.25000   0.216531   0.000000  0.000000  \n",
       "79912    0.372870    0.07500   0.279395   0.333333  0.333333  \n",
       "79913    0.167759    0.15000   0.144354   0.333333  0.333333  \n",
       "79914    0.323722    0.28750   0.325960   0.000000  0.000000  \n",
       "79915    0.633683    0.18750   0.225844   0.000000  0.000000  \n",
       "\n",
       "[79916 rows x 16 columns]"
      ]
     },
     "execution_count": 115,
     "metadata": {},
     "output_type": "execute_result"
    }
   ],
   "source": [
    "df_num_scaled"
   ]
  },
  {
   "cell_type": "code",
   "execution_count": 120,
   "id": "d9b56ff4",
   "metadata": {},
   "outputs": [],
   "source": [
    "df_final = pd.concat([df_num_scaled.reset_index(drop=True),df_cat2.reset_index(drop=True),df_target.reset_index(drop=True)],axis=1)"
   ]
  },
  {
   "cell_type": "code",
   "execution_count": 121,
   "id": "add0e21a",
   "metadata": {},
   "outputs": [
    {
     "data": {
      "text/plain": [
       "(79916, 88)"
      ]
     },
     "execution_count": 121,
     "metadata": {},
     "output_type": "execute_result"
    }
   ],
   "source": [
    "df_final.shape"
   ]
  },
  {
   "cell_type": "code",
   "execution_count": 122,
   "id": "2bb64e8a",
   "metadata": {},
   "outputs": [
    {
     "data": {
      "text/html": [
       "<div>\n",
       "<style scoped>\n",
       "    .dataframe tbody tr th:only-of-type {\n",
       "        vertical-align: middle;\n",
       "    }\n",
       "\n",
       "    .dataframe tbody tr th {\n",
       "        vertical-align: top;\n",
       "    }\n",
       "\n",
       "    .dataframe thead th {\n",
       "        text-align: right;\n",
       "    }\n",
       "</style>\n",
       "<table border=\"1\" class=\"dataframe\">\n",
       "  <thead>\n",
       "    <tr style=\"text-align: right;\">\n",
       "      <th></th>\n",
       "      <th>annual_inc</th>\n",
       "      <th>emp_length</th>\n",
       "      <th>int_rate</th>\n",
       "      <th>loan_amnt</th>\n",
       "      <th>num_actv_bc_tl</th>\n",
       "      <th>mort_acc</th>\n",
       "      <th>tot_cur_bal</th>\n",
       "      <th>open_acc</th>\n",
       "      <th>pub_rec</th>\n",
       "      <th>pub_rec_bankruptcies</th>\n",
       "      <th>...</th>\n",
       "      <th>sub_grade_G2</th>\n",
       "      <th>sub_grade_G3</th>\n",
       "      <th>sub_grade_G4</th>\n",
       "      <th>sub_grade_G5</th>\n",
       "      <th>term_Long</th>\n",
       "      <th>term_Short</th>\n",
       "      <th>verification_status_Not Verified</th>\n",
       "      <th>verification_status_Source Verified</th>\n",
       "      <th>verification_status_Verified</th>\n",
       "      <th>loan_status</th>\n",
       "    </tr>\n",
       "  </thead>\n",
       "  <tbody>\n",
       "    <tr>\n",
       "      <th>0</th>\n",
       "      <td>0.011902</td>\n",
       "      <td>1.0</td>\n",
       "      <td>0.532710</td>\n",
       "      <td>0.437821</td>\n",
       "      <td>0.03125</td>\n",
       "      <td>0.03125</td>\n",
       "      <td>0.061769</td>\n",
       "      <td>0.075949</td>\n",
       "      <td>0.0</td>\n",
       "      <td>0.0</td>\n",
       "      <td>...</td>\n",
       "      <td>0</td>\n",
       "      <td>0</td>\n",
       "      <td>0</td>\n",
       "      <td>0</td>\n",
       "      <td>1</td>\n",
       "      <td>0</td>\n",
       "      <td>0</td>\n",
       "      <td>1</td>\n",
       "      <td>0</td>\n",
       "      <td>0</td>\n",
       "    </tr>\n",
       "    <tr>\n",
       "      <th>1</th>\n",
       "      <td>0.005601</td>\n",
       "      <td>1.0</td>\n",
       "      <td>0.188863</td>\n",
       "      <td>0.200000</td>\n",
       "      <td>0.12500</td>\n",
       "      <td>0.00000</td>\n",
       "      <td>0.003856</td>\n",
       "      <td>0.050633</td>\n",
       "      <td>0.0</td>\n",
       "      <td>0.0</td>\n",
       "      <td>...</td>\n",
       "      <td>0</td>\n",
       "      <td>0</td>\n",
       "      <td>0</td>\n",
       "      <td>0</td>\n",
       "      <td>0</td>\n",
       "      <td>1</td>\n",
       "      <td>0</td>\n",
       "      <td>0</td>\n",
       "      <td>1</td>\n",
       "      <td>1</td>\n",
       "    </tr>\n",
       "    <tr>\n",
       "      <th>2</th>\n",
       "      <td>0.008401</td>\n",
       "      <td>1.0</td>\n",
       "      <td>0.239875</td>\n",
       "      <td>0.435897</td>\n",
       "      <td>0.12500</td>\n",
       "      <td>0.06250</td>\n",
       "      <td>0.004485</td>\n",
       "      <td>0.075949</td>\n",
       "      <td>0.0</td>\n",
       "      <td>0.0</td>\n",
       "      <td>...</td>\n",
       "      <td>0</td>\n",
       "      <td>0</td>\n",
       "      <td>0</td>\n",
       "      <td>0</td>\n",
       "      <td>0</td>\n",
       "      <td>1</td>\n",
       "      <td>0</td>\n",
       "      <td>1</td>\n",
       "      <td>0</td>\n",
       "      <td>1</td>\n",
       "    </tr>\n",
       "    <tr>\n",
       "      <th>3</th>\n",
       "      <td>0.014106</td>\n",
       "      <td>1.0</td>\n",
       "      <td>0.149922</td>\n",
       "      <td>0.487179</td>\n",
       "      <td>0.12500</td>\n",
       "      <td>0.03125</td>\n",
       "      <td>0.014046</td>\n",
       "      <td>0.139241</td>\n",
       "      <td>0.0</td>\n",
       "      <td>0.0</td>\n",
       "      <td>...</td>\n",
       "      <td>0</td>\n",
       "      <td>0</td>\n",
       "      <td>0</td>\n",
       "      <td>0</td>\n",
       "      <td>0</td>\n",
       "      <td>1</td>\n",
       "      <td>0</td>\n",
       "      <td>1</td>\n",
       "      <td>0</td>\n",
       "      <td>1</td>\n",
       "    </tr>\n",
       "    <tr>\n",
       "      <th>4</th>\n",
       "      <td>0.011202</td>\n",
       "      <td>1.0</td>\n",
       "      <td>0.721184</td>\n",
       "      <td>0.871795</td>\n",
       "      <td>0.43750</td>\n",
       "      <td>0.21875</td>\n",
       "      <td>0.012496</td>\n",
       "      <td>0.278481</td>\n",
       "      <td>0.0</td>\n",
       "      <td>0.0</td>\n",
       "      <td>...</td>\n",
       "      <td>0</td>\n",
       "      <td>0</td>\n",
       "      <td>0</td>\n",
       "      <td>0</td>\n",
       "      <td>1</td>\n",
       "      <td>0</td>\n",
       "      <td>0</td>\n",
       "      <td>0</td>\n",
       "      <td>1</td>\n",
       "      <td>1</td>\n",
       "    </tr>\n",
       "  </tbody>\n",
       "</table>\n",
       "<p>5 rows × 88 columns</p>\n",
       "</div>"
      ],
      "text/plain": [
       "   annual_inc  emp_length  int_rate  loan_amnt  num_actv_bc_tl  mort_acc  \\\n",
       "0    0.011902         1.0  0.532710   0.437821         0.03125   0.03125   \n",
       "1    0.005601         1.0  0.188863   0.200000         0.12500   0.00000   \n",
       "2    0.008401         1.0  0.239875   0.435897         0.12500   0.06250   \n",
       "3    0.014106         1.0  0.149922   0.487179         0.12500   0.03125   \n",
       "4    0.011202         1.0  0.721184   0.871795         0.43750   0.21875   \n",
       "\n",
       "   tot_cur_bal  open_acc  pub_rec  pub_rec_bankruptcies  ...  sub_grade_G2  \\\n",
       "0     0.061769  0.075949      0.0                   0.0  ...             0   \n",
       "1     0.003856  0.050633      0.0                   0.0  ...             0   \n",
       "2     0.004485  0.075949      0.0                   0.0  ...             0   \n",
       "3     0.014046  0.139241      0.0                   0.0  ...             0   \n",
       "4     0.012496  0.278481      0.0                   0.0  ...             0   \n",
       "\n",
       "   sub_grade_G3  sub_grade_G4  sub_grade_G5  term_Long  term_Short  \\\n",
       "0             0             0             0          1           0   \n",
       "1             0             0             0          0           1   \n",
       "2             0             0             0          0           1   \n",
       "3             0             0             0          0           1   \n",
       "4             0             0             0          1           0   \n",
       "\n",
       "   verification_status_Not Verified  verification_status_Source Verified  \\\n",
       "0                                 0                                    1   \n",
       "1                                 0                                    0   \n",
       "2                                 0                                    1   \n",
       "3                                 0                                    1   \n",
       "4                                 0                                    0   \n",
       "\n",
       "   verification_status_Verified  loan_status  \n",
       "0                             0            0  \n",
       "1                             1            1  \n",
       "2                             0            1  \n",
       "3                             0            1  \n",
       "4                             1            1  \n",
       "\n",
       "[5 rows x 88 columns]"
      ]
     },
     "execution_count": 122,
     "metadata": {},
     "output_type": "execute_result"
    }
   ],
   "source": [
    "df_final.head()\n"
   ]
  },
  {
   "cell_type": "markdown",
   "id": "20d96407",
   "metadata": {},
   "source": [
    "# Modelling"
   ]
  },
  {
   "cell_type": "code",
   "execution_count": 374,
   "id": "11c8319e",
   "metadata": {},
   "outputs": [],
   "source": [
    "from sklearn.model_selection import train_test_split,GridSearchCV\n",
    "from sklearn.linear_model import LogisticRegression\n",
    "from sklearn.tree import DecisionTreeClassifier\n",
    "from sklearn.neighbors import KNeighborsClassifier\n",
    "from sklearn.naive_bayes import GaussianNB\n",
    "from sklearn.ensemble import RandomForestClassifier\n",
    "from sklearn.ensemble import AdaBoostClassifier\n",
    "from sklearn.ensemble import GradientBoostingClassifier\n",
    "#from sklearn.ensemble import xgboost as xgb\n",
    "from sklearn.ensemble import VotingClassifier,StackingClassifier\n",
    "\n",
    "from sklearn.metrics import confusion_matrix, accuracy_score, recall_score, precision_score, classification_report, f1_score\n",
    "from imblearn.over_sampling import SMOTE"
   ]
  },
  {
   "cell_type": "code",
   "execution_count": 358,
   "id": "fcb30a5c",
   "metadata": {},
   "outputs": [],
   "source": [
    "X = df_final.drop(columns='loan_status')\n",
    "y = df_final['loan_status']"
   ]
  },
  {
   "cell_type": "code",
   "execution_count": 359,
   "id": "a7be1138",
   "metadata": {},
   "outputs": [],
   "source": [
    "\n",
    "train_X, test_X, train_y, test_y = train_test_split(X,y, test_size=0.3, random_state=2)"
   ]
  },
  {
   "cell_type": "code",
   "execution_count": 360,
   "id": "46ec3265",
   "metadata": {},
   "outputs": [
    {
     "data": {
      "text/plain": [
       "1    0.799082\n",
       "0    0.200918\n",
       "Name: loan_status, dtype: float64"
      ]
     },
     "execution_count": 360,
     "metadata": {},
     "output_type": "execute_result"
    }
   ],
   "source": [
    "test_y.value_counts(normalize=True)"
   ]
  },
  {
   "cell_type": "code",
   "execution_count": 361,
   "id": "99e91601",
   "metadata": {},
   "outputs": [],
   "source": [
    "#Resampling \n",
    "smote = SMOTE(sampling_strategy='auto', random_state=42)"
   ]
  },
  {
   "cell_type": "code",
   "execution_count": 362,
   "id": "79782011",
   "metadata": {},
   "outputs": [],
   "source": [
    "X_resampled, y_resampled = smote.fit_resample(train_X, train_y)"
   ]
  },
  {
   "cell_type": "code",
   "execution_count": 363,
   "id": "fa1d6d2e",
   "metadata": {},
   "outputs": [
    {
     "data": {
      "text/plain": [
       "1    44805\n",
       "0    44805\n",
       "Name: loan_status, dtype: int64"
      ]
     },
     "execution_count": 363,
     "metadata": {},
     "output_type": "execute_result"
    }
   ],
   "source": [
    "y_resampled.value_counts()"
   ]
  },
  {
   "cell_type": "code",
   "execution_count": 351,
   "id": "bb36e48d",
   "metadata": {},
   "outputs": [],
   "source": [
    "#train_X, test_X, train_y, test_y = train_test_split(X_resampled,y_resampled, test_size=0.3, random_state=2)"
   ]
  },
  {
   "cell_type": "code",
   "execution_count": 368,
   "id": "c7efe47c",
   "metadata": {},
   "outputs": [],
   "source": [
    "model = StackingClassifier(estimators=[\n",
    "                                                ('rf', RandomForestClassifier()), \n",
    "                                                ('gmb', GradientBoostingClassifier())], \n",
    "                                     final_estimator=DecisionTreeClassifier())"
   ]
  },
  {
   "cell_type": "code",
   "execution_count": 369,
   "id": "8fbc63bb",
   "metadata": {},
   "outputs": [
    {
     "data": {
      "text/html": [
       "<style>#sk-container-id-6 {color: black;background-color: white;}#sk-container-id-6 pre{padding: 0;}#sk-container-id-6 div.sk-toggleable {background-color: white;}#sk-container-id-6 label.sk-toggleable__label {cursor: pointer;display: block;width: 100%;margin-bottom: 0;padding: 0.3em;box-sizing: border-box;text-align: center;}#sk-container-id-6 label.sk-toggleable__label-arrow:before {content: \"▸\";float: left;margin-right: 0.25em;color: #696969;}#sk-container-id-6 label.sk-toggleable__label-arrow:hover:before {color: black;}#sk-container-id-6 div.sk-estimator:hover label.sk-toggleable__label-arrow:before {color: black;}#sk-container-id-6 div.sk-toggleable__content {max-height: 0;max-width: 0;overflow: hidden;text-align: left;background-color: #f0f8ff;}#sk-container-id-6 div.sk-toggleable__content pre {margin: 0.2em;color: black;border-radius: 0.25em;background-color: #f0f8ff;}#sk-container-id-6 input.sk-toggleable__control:checked~div.sk-toggleable__content {max-height: 200px;max-width: 100%;overflow: auto;}#sk-container-id-6 input.sk-toggleable__control:checked~label.sk-toggleable__label-arrow:before {content: \"▾\";}#sk-container-id-6 div.sk-estimator input.sk-toggleable__control:checked~label.sk-toggleable__label {background-color: #d4ebff;}#sk-container-id-6 div.sk-label input.sk-toggleable__control:checked~label.sk-toggleable__label {background-color: #d4ebff;}#sk-container-id-6 input.sk-hidden--visually {border: 0;clip: rect(1px 1px 1px 1px);clip: rect(1px, 1px, 1px, 1px);height: 1px;margin: -1px;overflow: hidden;padding: 0;position: absolute;width: 1px;}#sk-container-id-6 div.sk-estimator {font-family: monospace;background-color: #f0f8ff;border: 1px dotted black;border-radius: 0.25em;box-sizing: border-box;margin-bottom: 0.5em;}#sk-container-id-6 div.sk-estimator:hover {background-color: #d4ebff;}#sk-container-id-6 div.sk-parallel-item::after {content: \"\";width: 100%;border-bottom: 1px solid gray;flex-grow: 1;}#sk-container-id-6 div.sk-label:hover label.sk-toggleable__label {background-color: #d4ebff;}#sk-container-id-6 div.sk-serial::before {content: \"\";position: absolute;border-left: 1px solid gray;box-sizing: border-box;top: 0;bottom: 0;left: 50%;z-index: 0;}#sk-container-id-6 div.sk-serial {display: flex;flex-direction: column;align-items: center;background-color: white;padding-right: 0.2em;padding-left: 0.2em;position: relative;}#sk-container-id-6 div.sk-item {position: relative;z-index: 1;}#sk-container-id-6 div.sk-parallel {display: flex;align-items: stretch;justify-content: center;background-color: white;position: relative;}#sk-container-id-6 div.sk-item::before, #sk-container-id-6 div.sk-parallel-item::before {content: \"\";position: absolute;border-left: 1px solid gray;box-sizing: border-box;top: 0;bottom: 0;left: 50%;z-index: -1;}#sk-container-id-6 div.sk-parallel-item {display: flex;flex-direction: column;z-index: 1;position: relative;background-color: white;}#sk-container-id-6 div.sk-parallel-item:first-child::after {align-self: flex-end;width: 50%;}#sk-container-id-6 div.sk-parallel-item:last-child::after {align-self: flex-start;width: 50%;}#sk-container-id-6 div.sk-parallel-item:only-child::after {width: 0;}#sk-container-id-6 div.sk-dashed-wrapped {border: 1px dashed gray;margin: 0 0.4em 0.5em 0.4em;box-sizing: border-box;padding-bottom: 0.4em;background-color: white;}#sk-container-id-6 div.sk-label label {font-family: monospace;font-weight: bold;display: inline-block;line-height: 1.2em;}#sk-container-id-6 div.sk-label-container {text-align: center;}#sk-container-id-6 div.sk-container {/* jupyter's `normalize.less` sets `[hidden] { display: none; }` but bootstrap.min.css set `[hidden] { display: none !important; }` so we also need the `!important` here to be able to override the default hidden behavior on the sphinx rendered scikit-learn.org. See: https://github.com/scikit-learn/scikit-learn/issues/21755 */display: inline-block !important;position: relative;}#sk-container-id-6 div.sk-text-repr-fallback {display: none;}</style><div id=\"sk-container-id-6\" class=\"sk-top-container\"><div class=\"sk-text-repr-fallback\"><pre>StackingClassifier(estimators=[(&#x27;rf&#x27;, RandomForestClassifier()),\n",
       "                               (&#x27;gmb&#x27;, GradientBoostingClassifier())],\n",
       "                   final_estimator=DecisionTreeClassifier())</pre><b>In a Jupyter environment, please rerun this cell to show the HTML representation or trust the notebook. <br />On GitHub, the HTML representation is unable to render, please try loading this page with nbviewer.org.</b></div><div class=\"sk-container\" hidden><div class=\"sk-item sk-dashed-wrapped\"><div class=\"sk-label-container\"><div class=\"sk-label sk-toggleable\"><input class=\"sk-toggleable__control sk-hidden--visually\" id=\"sk-estimator-id-6\" type=\"checkbox\" ><label for=\"sk-estimator-id-6\" class=\"sk-toggleable__label sk-toggleable__label-arrow\">StackingClassifier</label><div class=\"sk-toggleable__content\"><pre>StackingClassifier(estimators=[(&#x27;rf&#x27;, RandomForestClassifier()),\n",
       "                               (&#x27;gmb&#x27;, GradientBoostingClassifier())],\n",
       "                   final_estimator=DecisionTreeClassifier())</pre></div></div></div><div class=\"sk-serial\"><div class=\"sk-item\"><div class=\"sk-parallel\"><div class=\"sk-parallel-item\"><div class=\"sk-item\"><div class=\"sk-label-container\"><div class=\"sk-label sk-toggleable\"><label>rf</label></div></div><div class=\"sk-serial\"><div class=\"sk-item\"><div class=\"sk-estimator sk-toggleable\"><input class=\"sk-toggleable__control sk-hidden--visually\" id=\"sk-estimator-id-7\" type=\"checkbox\" ><label for=\"sk-estimator-id-7\" class=\"sk-toggleable__label sk-toggleable__label-arrow\">RandomForestClassifier</label><div class=\"sk-toggleable__content\"><pre>RandomForestClassifier()</pre></div></div></div></div></div></div><div class=\"sk-parallel-item\"><div class=\"sk-item\"><div class=\"sk-label-container\"><div class=\"sk-label sk-toggleable\"><label>gmb</label></div></div><div class=\"sk-serial\"><div class=\"sk-item\"><div class=\"sk-estimator sk-toggleable\"><input class=\"sk-toggleable__control sk-hidden--visually\" id=\"sk-estimator-id-8\" type=\"checkbox\" ><label for=\"sk-estimator-id-8\" class=\"sk-toggleable__label sk-toggleable__label-arrow\">GradientBoostingClassifier</label><div class=\"sk-toggleable__content\"><pre>GradientBoostingClassifier()</pre></div></div></div></div></div></div></div></div><div class=\"sk-item\"><div class=\"sk-parallel\"><div class=\"sk-parallel-item\"><div class=\"sk-item\"><div class=\"sk-label-container\"><div class=\"sk-label sk-toggleable\"><label>final_estimator</label></div></div><div class=\"sk-serial\"><div class=\"sk-item\"><div class=\"sk-estimator sk-toggleable\"><input class=\"sk-toggleable__control sk-hidden--visually\" id=\"sk-estimator-id-9\" type=\"checkbox\" ><label for=\"sk-estimator-id-9\" class=\"sk-toggleable__label sk-toggleable__label-arrow\">DecisionTreeClassifier</label><div class=\"sk-toggleable__content\"><pre>DecisionTreeClassifier()</pre></div></div></div></div></div></div></div></div></div></div></div></div>"
      ],
      "text/plain": [
       "StackingClassifier(estimators=[('rf', RandomForestClassifier()),\n",
       "                               ('gmb', GradientBoostingClassifier())],\n",
       "                   final_estimator=DecisionTreeClassifier())"
      ]
     },
     "execution_count": 369,
     "metadata": {},
     "output_type": "execute_result"
    }
   ],
   "source": [
    "model.fit(X_resampled, y_resampled)"
   ]
  },
  {
   "cell_type": "code",
   "execution_count": 370,
   "id": "8910ee7c",
   "metadata": {},
   "outputs": [],
   "source": [
    "#train_pred = model.predict(train_X)\n",
    "test_pred = model.predict(test_X)"
   ]
  },
  {
   "cell_type": "code",
   "execution_count": 135,
   "id": "5b1e563e",
   "metadata": {},
   "outputs": [
    {
     "name": "stdout",
     "output_type": "stream",
     "text": [
      "F1 train Score:  0.888857749129199\n",
      "F1 train Score:  0.8874865610246341\n"
     ]
    }
   ],
   "source": [
    "f1_train = f1_score(train_y, train_pred)\n",
    "print('F1 train Score: ', f1_train)\n",
    "f1_test = f1_score(test_y, test_pred)\n",
    "print('F1 train Score: ', f1_test)"
   ]
  },
  {
   "cell_type": "code",
   "execution_count": 371,
   "id": "23d5f584",
   "metadata": {},
   "outputs": [
    {
     "name": "stdout",
     "output_type": "stream",
     "text": [
      "              precision    recall  f1-score   support\n",
      "\n",
      "           0       0.25      0.17      0.20      4817\n",
      "           1       0.81      0.87      0.84     19158\n",
      "\n",
      "    accuracy                           0.73     23975\n",
      "   macro avg       0.53      0.52      0.52     23975\n",
      "weighted avg       0.69      0.73      0.71     23975\n",
      "\n"
     ]
    }
   ],
   "source": [
    "print(classification_report(test_y, test_pred))"
   ]
  },
  {
   "cell_type": "code",
   "execution_count": 372,
   "id": "25ad73ac",
   "metadata": {},
   "outputs": [],
   "source": [
    "rf_classifier = RandomForestClassifier()\n",
    "param_grid = {\n",
    "    'n_estimators': [100, 200, 300],  \n",
    "    'max_depth': [None, 10, 20, 30],  \n",
    "    'min_samples_split': [2, 5, 10],\n",
    "    'min_samples_leaf': [1, 2, 4]\n",
    "}"
   ]
  },
  {
   "cell_type": "code",
   "execution_count": 375,
   "id": "00bf52a3",
   "metadata": {},
   "outputs": [],
   "source": [
    "grid_search = GridSearchCV(rf_classifier, param_grid, cv=5, scoring='f1')"
   ]
  },
  {
   "cell_type": "code",
   "execution_count": null,
   "id": "dc0b2bdd",
   "metadata": {},
   "outputs": [],
   "source": [
    "grid_search.fit(X_resampled, y_resampled)"
   ]
  },
  {
   "cell_type": "code",
   "execution_count": null,
   "id": "ea43a732",
   "metadata": {},
   "outputs": [],
   "source": [
    "best_rf_classifier = grid_search.best_estimator_"
   ]
  },
  {
   "cell_type": "code",
   "execution_count": null,
   "id": "23d87965",
   "metadata": {},
   "outputs": [],
   "source": [
    "y_pred = best_rf_classifier.predict(X_test)"
   ]
  },
  {
   "cell_type": "code",
   "execution_count": null,
   "id": "9d6c0291",
   "metadata": {},
   "outputs": [],
   "source": []
  },
  {
   "cell_type": "code",
   "execution_count": null,
   "id": "94a3f126",
   "metadata": {},
   "outputs": [],
   "source": []
  },
  {
   "cell_type": "code",
   "execution_count": 145,
   "id": "44c4325a",
   "metadata": {},
   "outputs": [],
   "source": [
    "model_ = {'Logistic': LogisticRegression(),\n",
    "         'KNN': KNeighborsClassifier(),\n",
    "         'Naive Bayes': GaussianNB(),\n",
    "         'Decision Tree': DecisionTreeClassifier(),\n",
    "         'RandomForest': RandomForestClassifier(),\n",
    "         'AdaBoost': AdaBoostClassifier(),\n",
    "         'GBM': GradientBoostingClassifier(),\n",
    "         \n",
    "         'Voting_hard': VotingClassifier(estimators=[('lr', LogisticRegression()), \n",
    "                                                ('rf', RandomForestClassifier()), \n",
    "                                                ('gmb', GradientBoostingClassifier())], \n",
    "                                    voting='hard'),\n",
    "         'Voting_soft': VotingClassifier(estimators=[('lr', LogisticRegression()), \n",
    "                                                ('rf', RandomForestClassifier()), \n",
    "                                                ('gmb', GradientBoostingClassifier())], \n",
    "                                    voting='soft'),\n",
    "         'Voting_soft_best_model': VotingClassifier(estimators=[\n",
    "                                                ('rf', RandomForestClassifier()), \n",
    "                                                ('gmb', GradientBoostingClassifier())], \n",
    "                                    voting='soft'),\n",
    "         'Stacking': StackingClassifier(estimators=[('lr', LogisticRegression()), \n",
    "                                                ('rf', RandomForestClassifier()), \n",
    "                                                ('gmb', GradientBoostingClassifier())], \n",
    "                                     final_estimator=LogisticRegression()),\n",
    "         'Stacking_best_model': StackingClassifier(estimators=[\n",
    "                                                ('rf', RandomForestClassifier()), \n",
    "                                                ('gmb', GradientBoostingClassifier())], \n",
    "                                     final_estimator=DecisionTreeClassifier()),\n",
    "         'Stacking_best_model_best_final_estimator': StackingClassifier(estimators=[ \n",
    "                                                ('rf', RandomForestClassifier()), \n",
    "                                                ('gmb', GradientBoostingClassifier())], \n",
    "                                     final_estimator=RandomForestClassifier()),   \n",
    "          \n",
    "          \n",
    "        }"
   ]
  },
  {
   "cell_type": "code",
   "execution_count": 151,
   "id": "ef3b2343",
   "metadata": {},
   "outputs": [
    {
     "name": "stdout",
     "output_type": "stream",
     "text": [
      "Model :  Logistic\n"
     ]
    },
    {
     "name": "stderr",
     "output_type": "stream",
     "text": [
      "C:\\Users\\User\\anaconda3\\lib\\site-packages\\sklearn\\linear_model\\_logistic.py:458: ConvergenceWarning: lbfgs failed to converge (status=1):\n",
      "STOP: TOTAL NO. of ITERATIONS REACHED LIMIT.\n",
      "\n",
      "Increase the number of iterations (max_iter) or scale the data as shown in:\n",
      "    https://scikit-learn.org/stable/modules/preprocessing.html\n",
      "Please also refer to the documentation for alternative solver options:\n",
      "    https://scikit-learn.org/stable/modules/linear_model.html#logistic-regression\n",
      "  n_iter_i = _check_optimize_result(\n"
     ]
    },
    {
     "name": "stdout",
     "output_type": "stream",
     "text": [
      "Train Classification Report :                precision    recall  f1-score   support\n",
      "\n",
      "           0       0.52      0.04      0.07     11136\n",
      "           1       0.81      0.99      0.89     44805\n",
      "\n",
      "    accuracy                           0.80     55941\n",
      "   macro avg       0.66      0.52      0.48     55941\n",
      "weighted avg       0.75      0.80      0.73     55941\n",
      "\n",
      "Test Classification Report :                precision    recall  f1-score   support\n",
      "\n",
      "           0       0.50      0.04      0.07      4817\n",
      "           1       0.80      0.99      0.89     19158\n",
      "\n",
      "    accuracy                           0.80     23975\n",
      "   macro avg       0.65      0.51      0.48     23975\n",
      "weighted avg       0.74      0.80      0.72     23975\n",
      "\n",
      "Model :  KNN\n",
      "Train Classification Report :                precision    recall  f1-score   support\n",
      "\n",
      "           0       0.66      0.31      0.42     11136\n",
      "           1       0.85      0.96      0.90     44805\n",
      "\n",
      "    accuracy                           0.83     55941\n",
      "   macro avg       0.76      0.63      0.66     55941\n",
      "weighted avg       0.81      0.83      0.81     55941\n",
      "\n",
      "Test Classification Report :                precision    recall  f1-score   support\n",
      "\n",
      "           0       0.34      0.15      0.21      4817\n",
      "           1       0.81      0.93      0.87     19158\n",
      "\n",
      "    accuracy                           0.77     23975\n",
      "   macro avg       0.58      0.54      0.54     23975\n",
      "weighted avg       0.72      0.77      0.73     23975\n",
      "\n",
      "Model :  Naive Bayes\n",
      "Train Classification Report :                precision    recall  f1-score   support\n",
      "\n",
      "           0       0.33      0.56      0.41     11136\n",
      "           1       0.87      0.72      0.78     44805\n",
      "\n",
      "    accuracy                           0.68     55941\n",
      "   macro avg       0.60      0.64      0.60     55941\n",
      "weighted avg       0.76      0.68      0.71     55941\n",
      "\n",
      "Test Classification Report :                precision    recall  f1-score   support\n",
      "\n",
      "           0       0.33      0.55      0.41      4817\n",
      "           1       0.86      0.72      0.78     19158\n",
      "\n",
      "    accuracy                           0.68     23975\n",
      "   macro avg       0.60      0.63      0.60     23975\n",
      "weighted avg       0.76      0.68      0.71     23975\n",
      "\n",
      "Model :  Decision Tree\n",
      "Train Classification Report :                precision    recall  f1-score   support\n",
      "\n",
      "           0       1.00      1.00      1.00     11136\n",
      "           1       1.00      1.00      1.00     44805\n",
      "\n",
      "    accuracy                           1.00     55941\n",
      "   macro avg       1.00      1.00      1.00     55941\n",
      "weighted avg       1.00      1.00      1.00     55941\n",
      "\n",
      "Test Classification Report :                precision    recall  f1-score   support\n",
      "\n",
      "           0       0.26      0.28      0.27      4817\n",
      "           1       0.81      0.80      0.81     19158\n",
      "\n",
      "    accuracy                           0.69     23975\n",
      "   macro avg       0.54      0.54      0.54     23975\n",
      "weighted avg       0.70      0.69      0.70     23975\n",
      "\n",
      "Model :  RandomForest\n",
      "Train Classification Report :                precision    recall  f1-score   support\n",
      "\n",
      "           0       1.00      1.00      1.00     11136\n",
      "           1       1.00      1.00      1.00     44805\n",
      "\n",
      "    accuracy                           1.00     55941\n",
      "   macro avg       1.00      1.00      1.00     55941\n",
      "weighted avg       1.00      1.00      1.00     55941\n",
      "\n",
      "Test Classification Report :                precision    recall  f1-score   support\n",
      "\n",
      "           0       0.48      0.06      0.10      4817\n",
      "           1       0.81      0.98      0.89     19158\n",
      "\n",
      "    accuracy                           0.80     23975\n",
      "   macro avg       0.65      0.52      0.49     23975\n",
      "weighted avg       0.74      0.80      0.73     23975\n",
      "\n",
      "Model :  AdaBoost\n",
      "Train Classification Report :                precision    recall  f1-score   support\n",
      "\n",
      "           0       0.52      0.05      0.10     11136\n",
      "           1       0.81      0.99      0.89     44805\n",
      "\n",
      "    accuracy                           0.80     55941\n",
      "   macro avg       0.66      0.52      0.49     55941\n",
      "weighted avg       0.75      0.80      0.73     55941\n",
      "\n"
     ]
    },
    {
     "ename": "KeyboardInterrupt",
     "evalue": "",
     "output_type": "error",
     "traceback": [
      "\u001b[1;31m---------------------------------------------------------------------------\u001b[0m",
      "\u001b[1;31mKeyboardInterrupt\u001b[0m                         Traceback (most recent call last)",
      "Cell \u001b[1;32mIn[151], line 8\u001b[0m\n\u001b[0;32m      6\u001b[0m test_pred \u001b[38;5;241m=\u001b[39m model\u001b[38;5;241m.\u001b[39mpredict(test_X)\n\u001b[0;32m      7\u001b[0m \u001b[38;5;28mprint\u001b[39m(\u001b[38;5;124m\"\u001b[39m\u001b[38;5;124mTrain Classification Report : \u001b[39m\u001b[38;5;124m\"\u001b[39m,classification_report(train_y, train_pred))\n\u001b[1;32m----> 8\u001b[0m \u001b[38;5;28mprint\u001b[39m(\u001b[38;5;124m\"\u001b[39m\u001b[38;5;124mTest Classification Report : \u001b[39m\u001b[38;5;124m\"\u001b[39m,\u001b[43mclassification_report\u001b[49m\u001b[43m(\u001b[49m\u001b[43mtest_y\u001b[49m\u001b[43m,\u001b[49m\u001b[43m \u001b[49m\u001b[43mtest_pred\u001b[49m\u001b[43m)\u001b[49m)\n\u001b[0;32m      9\u001b[0m res\u001b[38;5;241m.\u001b[39mappend([name,f1_score(train_y, train_pred), f1_score(test_y, test_pred)])\n",
      "File \u001b[1;32m~\\anaconda3\\lib\\site-packages\\sklearn\\metrics\\_classification.py:2381\u001b[0m, in \u001b[0;36mclassification_report\u001b[1;34m(y_true, y_pred, labels, target_names, sample_weight, digits, output_dict, zero_division)\u001b[0m\n\u001b[0;32m   2378\u001b[0m     line_heading \u001b[38;5;241m=\u001b[39m average \u001b[38;5;241m+\u001b[39m \u001b[38;5;124m\"\u001b[39m\u001b[38;5;124m avg\u001b[39m\u001b[38;5;124m\"\u001b[39m\n\u001b[0;32m   2380\u001b[0m \u001b[38;5;66;03m# compute averages with specified averaging method\u001b[39;00m\n\u001b[1;32m-> 2381\u001b[0m avg_p, avg_r, avg_f1, _ \u001b[38;5;241m=\u001b[39m \u001b[43mprecision_recall_fscore_support\u001b[49m\u001b[43m(\u001b[49m\n\u001b[0;32m   2382\u001b[0m \u001b[43m    \u001b[49m\u001b[43my_true\u001b[49m\u001b[43m,\u001b[49m\n\u001b[0;32m   2383\u001b[0m \u001b[43m    \u001b[49m\u001b[43my_pred\u001b[49m\u001b[43m,\u001b[49m\n\u001b[0;32m   2384\u001b[0m \u001b[43m    \u001b[49m\u001b[43mlabels\u001b[49m\u001b[38;5;241;43m=\u001b[39;49m\u001b[43mlabels\u001b[49m\u001b[43m,\u001b[49m\n\u001b[0;32m   2385\u001b[0m \u001b[43m    \u001b[49m\u001b[43maverage\u001b[49m\u001b[38;5;241;43m=\u001b[39;49m\u001b[43maverage\u001b[49m\u001b[43m,\u001b[49m\n\u001b[0;32m   2386\u001b[0m \u001b[43m    \u001b[49m\u001b[43msample_weight\u001b[49m\u001b[38;5;241;43m=\u001b[39;49m\u001b[43msample_weight\u001b[49m\u001b[43m,\u001b[49m\n\u001b[0;32m   2387\u001b[0m \u001b[43m    \u001b[49m\u001b[43mzero_division\u001b[49m\u001b[38;5;241;43m=\u001b[39;49m\u001b[43mzero_division\u001b[49m\u001b[43m,\u001b[49m\n\u001b[0;32m   2388\u001b[0m \u001b[43m\u001b[49m\u001b[43m)\u001b[49m\n\u001b[0;32m   2389\u001b[0m avg \u001b[38;5;241m=\u001b[39m [avg_p, avg_r, avg_f1, np\u001b[38;5;241m.\u001b[39msum(s)]\n\u001b[0;32m   2391\u001b[0m \u001b[38;5;28;01mif\u001b[39;00m output_dict:\n",
      "File \u001b[1;32m~\\anaconda3\\lib\\site-packages\\sklearn\\metrics\\_classification.py:1577\u001b[0m, in \u001b[0;36mprecision_recall_fscore_support\u001b[1;34m(y_true, y_pred, beta, labels, pos_label, average, warn_for, sample_weight, zero_division)\u001b[0m\n\u001b[0;32m   1575\u001b[0m \u001b[38;5;66;03m# Calculate tp_sum, pred_sum, true_sum ###\u001b[39;00m\n\u001b[0;32m   1576\u001b[0m samplewise \u001b[38;5;241m=\u001b[39m average \u001b[38;5;241m==\u001b[39m \u001b[38;5;124m\"\u001b[39m\u001b[38;5;124msamples\u001b[39m\u001b[38;5;124m\"\u001b[39m\n\u001b[1;32m-> 1577\u001b[0m MCM \u001b[38;5;241m=\u001b[39m \u001b[43mmultilabel_confusion_matrix\u001b[49m\u001b[43m(\u001b[49m\n\u001b[0;32m   1578\u001b[0m \u001b[43m    \u001b[49m\u001b[43my_true\u001b[49m\u001b[43m,\u001b[49m\n\u001b[0;32m   1579\u001b[0m \u001b[43m    \u001b[49m\u001b[43my_pred\u001b[49m\u001b[43m,\u001b[49m\n\u001b[0;32m   1580\u001b[0m \u001b[43m    \u001b[49m\u001b[43msample_weight\u001b[49m\u001b[38;5;241;43m=\u001b[39;49m\u001b[43msample_weight\u001b[49m\u001b[43m,\u001b[49m\n\u001b[0;32m   1581\u001b[0m \u001b[43m    \u001b[49m\u001b[43mlabels\u001b[49m\u001b[38;5;241;43m=\u001b[39;49m\u001b[43mlabels\u001b[49m\u001b[43m,\u001b[49m\n\u001b[0;32m   1582\u001b[0m \u001b[43m    \u001b[49m\u001b[43msamplewise\u001b[49m\u001b[38;5;241;43m=\u001b[39;49m\u001b[43msamplewise\u001b[49m\u001b[43m,\u001b[49m\n\u001b[0;32m   1583\u001b[0m \u001b[43m\u001b[49m\u001b[43m)\u001b[49m\n\u001b[0;32m   1584\u001b[0m tp_sum \u001b[38;5;241m=\u001b[39m MCM[:, \u001b[38;5;241m1\u001b[39m, \u001b[38;5;241m1\u001b[39m]\n\u001b[0;32m   1585\u001b[0m pred_sum \u001b[38;5;241m=\u001b[39m tp_sum \u001b[38;5;241m+\u001b[39m MCM[:, \u001b[38;5;241m0\u001b[39m, \u001b[38;5;241m1\u001b[39m]\n",
      "File \u001b[1;32m~\\anaconda3\\lib\\site-packages\\sklearn\\metrics\\_classification.py:489\u001b[0m, in \u001b[0;36mmultilabel_confusion_matrix\u001b[1;34m(y_true, y_pred, sample_weight, labels, samplewise)\u001b[0m\n\u001b[0;32m    389\u001b[0m \u001b[38;5;28;01mdef\u001b[39;00m \u001b[38;5;21mmultilabel_confusion_matrix\u001b[39m(\n\u001b[0;32m    390\u001b[0m     y_true, y_pred, \u001b[38;5;241m*\u001b[39m, sample_weight\u001b[38;5;241m=\u001b[39m\u001b[38;5;28;01mNone\u001b[39;00m, labels\u001b[38;5;241m=\u001b[39m\u001b[38;5;28;01mNone\u001b[39;00m, samplewise\u001b[38;5;241m=\u001b[39m\u001b[38;5;28;01mFalse\u001b[39;00m\n\u001b[0;32m    391\u001b[0m ):\n\u001b[0;32m    392\u001b[0m     \u001b[38;5;124;03m\"\"\"Compute a confusion matrix for each class or sample.\u001b[39;00m\n\u001b[0;32m    393\u001b[0m \n\u001b[0;32m    394\u001b[0m \u001b[38;5;124;03m    .. versionadded:: 0.21\u001b[39;00m\n\u001b[1;32m   (...)\u001b[0m\n\u001b[0;32m    487\u001b[0m \u001b[38;5;124;03m            [1, 2]]])\u001b[39;00m\n\u001b[0;32m    488\u001b[0m \u001b[38;5;124;03m    \"\"\"\u001b[39;00m\n\u001b[1;32m--> 489\u001b[0m     y_type, y_true, y_pred \u001b[38;5;241m=\u001b[39m \u001b[43m_check_targets\u001b[49m\u001b[43m(\u001b[49m\u001b[43my_true\u001b[49m\u001b[43m,\u001b[49m\u001b[43m \u001b[49m\u001b[43my_pred\u001b[49m\u001b[43m)\u001b[49m\n\u001b[0;32m    490\u001b[0m     \u001b[38;5;28;01mif\u001b[39;00m sample_weight \u001b[38;5;129;01mis\u001b[39;00m \u001b[38;5;129;01mnot\u001b[39;00m \u001b[38;5;28;01mNone\u001b[39;00m:\n\u001b[0;32m    491\u001b[0m         sample_weight \u001b[38;5;241m=\u001b[39m column_or_1d(sample_weight)\n",
      "File \u001b[1;32m~\\anaconda3\\lib\\site-packages\\sklearn\\metrics\\_classification.py:113\u001b[0m, in \u001b[0;36m_check_targets\u001b[1;34m(y_true, y_pred)\u001b[0m\n\u001b[0;32m    111\u001b[0m \u001b[38;5;28;01mif\u001b[39;00m y_type \u001b[38;5;241m==\u001b[39m \u001b[38;5;124m\"\u001b[39m\u001b[38;5;124mbinary\u001b[39m\u001b[38;5;124m\"\u001b[39m:\n\u001b[0;32m    112\u001b[0m     \u001b[38;5;28;01mtry\u001b[39;00m:\n\u001b[1;32m--> 113\u001b[0m         unique_values \u001b[38;5;241m=\u001b[39m \u001b[43mnp\u001b[49m\u001b[38;5;241;43m.\u001b[39;49m\u001b[43munion1d\u001b[49m\u001b[43m(\u001b[49m\u001b[43my_true\u001b[49m\u001b[43m,\u001b[49m\u001b[43m \u001b[49m\u001b[43my_pred\u001b[49m\u001b[43m)\u001b[49m\n\u001b[0;32m    114\u001b[0m     \u001b[38;5;28;01mexcept\u001b[39;00m \u001b[38;5;167;01mTypeError\u001b[39;00m \u001b[38;5;28;01mas\u001b[39;00m e:\n\u001b[0;32m    115\u001b[0m         \u001b[38;5;66;03m# We expect y_true and y_pred to be of the same data type.\u001b[39;00m\n\u001b[0;32m    116\u001b[0m         \u001b[38;5;66;03m# If `y_true` was provided to the classifier as strings,\u001b[39;00m\n\u001b[0;32m    117\u001b[0m         \u001b[38;5;66;03m# `y_pred` given by the classifier will also be encoded with\u001b[39;00m\n\u001b[0;32m    118\u001b[0m         \u001b[38;5;66;03m# strings. So we raise a meaningful error\u001b[39;00m\n\u001b[0;32m    119\u001b[0m         \u001b[38;5;28;01mraise\u001b[39;00m \u001b[38;5;167;01mTypeError\u001b[39;00m(\n\u001b[0;32m    120\u001b[0m             \u001b[38;5;124m\"\u001b[39m\u001b[38;5;124mLabels in y_true and y_pred should be of the same type. \u001b[39m\u001b[38;5;124m\"\u001b[39m\n\u001b[0;32m    121\u001b[0m             \u001b[38;5;124mf\u001b[39m\u001b[38;5;124m\"\u001b[39m\u001b[38;5;124mGot y_true=\u001b[39m\u001b[38;5;132;01m{\u001b[39;00mnp\u001b[38;5;241m.\u001b[39munique(y_true)\u001b[38;5;132;01m}\u001b[39;00m\u001b[38;5;124m and \u001b[39m\u001b[38;5;124m\"\u001b[39m\n\u001b[1;32m   (...)\u001b[0m\n\u001b[0;32m    124\u001b[0m             \u001b[38;5;124m\"\u001b[39m\u001b[38;5;124mthe true labels.\u001b[39m\u001b[38;5;124m\"\u001b[39m\n\u001b[0;32m    125\u001b[0m         ) \u001b[38;5;28;01mfrom\u001b[39;00m \u001b[38;5;21;01me\u001b[39;00m\n",
      "File \u001b[1;32m<__array_function__ internals>:180\u001b[0m, in \u001b[0;36munion1d\u001b[1;34m(*args, **kwargs)\u001b[0m\n",
      "File \u001b[1;32m~\\anaconda3\\lib\\site-packages\\numpy\\lib\\arraysetops.py:781\u001b[0m, in \u001b[0;36munion1d\u001b[1;34m(ar1, ar2)\u001b[0m\n\u001b[0;32m    747\u001b[0m \u001b[38;5;129m@array_function_dispatch\u001b[39m(_union1d_dispatcher)\n\u001b[0;32m    748\u001b[0m \u001b[38;5;28;01mdef\u001b[39;00m \u001b[38;5;21munion1d\u001b[39m(ar1, ar2):\n\u001b[0;32m    749\u001b[0m     \u001b[38;5;124;03m\"\"\"\u001b[39;00m\n\u001b[0;32m    750\u001b[0m \u001b[38;5;124;03m    Find the union of two arrays.\u001b[39;00m\n\u001b[0;32m    751\u001b[0m \n\u001b[1;32m   (...)\u001b[0m\n\u001b[0;32m    779\u001b[0m \u001b[38;5;124;03m    array([1, 2, 3, 4, 6])\u001b[39;00m\n\u001b[0;32m    780\u001b[0m \u001b[38;5;124;03m    \"\"\"\u001b[39;00m\n\u001b[1;32m--> 781\u001b[0m     \u001b[38;5;28;01mreturn\u001b[39;00m unique(\u001b[43mnp\u001b[49m\u001b[38;5;241;43m.\u001b[39;49m\u001b[43mconcatenate\u001b[49m\u001b[43m(\u001b[49m\u001b[43m(\u001b[49m\u001b[43mar1\u001b[49m\u001b[43m,\u001b[49m\u001b[43m \u001b[49m\u001b[43mar2\u001b[49m\u001b[43m)\u001b[49m\u001b[43m,\u001b[49m\u001b[43m \u001b[49m\u001b[43maxis\u001b[49m\u001b[38;5;241;43m=\u001b[39;49m\u001b[38;5;28;43;01mNone\u001b[39;49;00m\u001b[43m)\u001b[49m)\n",
      "File \u001b[1;32m<__array_function__ internals>:180\u001b[0m, in \u001b[0;36mconcatenate\u001b[1;34m(*args, **kwargs)\u001b[0m\n",
      "\u001b[1;31mKeyboardInterrupt\u001b[0m: "
     ]
    }
   ],
   "source": [
    "res = []\n",
    "for name, model in model_.items():\n",
    "    print(\"Model : \",name)\n",
    "    model.fit(train_X,train_y)\n",
    "    train_pred = model.predict(train_X)\n",
    "    test_pred = model.predict(test_X)\n",
    "    print(\"Train Classification Report : \",classification_report(train_y, train_pred))\n",
    "    print(\"Test Classification Report : \",classification_report(test_y, test_pred))\n",
    "    res.append([name,f1_score(train_y, train_pred), f1_score(test_y, test_pred)])\n",
    "    "
   ]
  },
  {
   "cell_type": "code",
   "execution_count": 152,
   "id": "a4200265",
   "metadata": {},
   "outputs": [
    {
     "data": {
      "text/plain": [
       "[['Logistic', 0.888857749129199, 0.8874865610246341],\n",
       " ['KNN', 0.9010621043268979, 0.8657131699697355],\n",
       " ['Naive Bayes', 0.7840217152079819, 0.7832758178136497],\n",
       " ['Decision Tree', 1.0, 0.8060055939627421],\n",
       " ['RandomForest', 1.0, 0.8863930073544962]]"
      ]
     },
     "execution_count": 152,
     "metadata": {},
     "output_type": "execute_result"
    }
   ],
   "source": [
    "res"
   ]
  },
  {
   "cell_type": "code",
   "execution_count": null,
   "id": "c4a4ea42",
   "metadata": {},
   "outputs": [],
   "source": []
  },
  {
   "cell_type": "code",
   "execution_count": 147,
   "id": "a968505e",
   "metadata": {},
   "outputs": [],
   "source": [
    "l = pd.read_csv('train_loan_data.csv')"
   ]
  },
  {
   "cell_type": "markdown",
   "id": "0a34aadd",
   "metadata": {},
   "source": [
    "# Test Data"
   ]
  },
  {
   "cell_type": "code",
   "execution_count": 299,
   "id": "5fb22b84",
   "metadata": {},
   "outputs": [],
   "source": [
    "test_df = pd.read_csv('test_loan_data.csv')"
   ]
  },
  {
   "cell_type": "code",
   "execution_count": 300,
   "id": "e4e33505",
   "metadata": {},
   "outputs": [],
   "source": [
    "test_df_target = pd.read_csv('test_results.csv')\n",
    "test_df_target['loan_status'] = test_df_target['loan_status'].replace({'Fully Paid':1,'Charged Off':0})"
   ]
  },
  {
   "cell_type": "code",
   "execution_count": 301,
   "id": "c4c33f37",
   "metadata": {},
   "outputs": [
    {
     "data": {
      "text/plain": [
       "((20000, 27), (20000, 1))"
      ]
     },
     "execution_count": 301,
     "metadata": {},
     "output_type": "execute_result"
    }
   ],
   "source": [
    "test_df.shape,test_df_target.shape"
   ]
  },
  {
   "cell_type": "code",
   "execution_count": 302,
   "id": "96ed7b5a",
   "metadata": {},
   "outputs": [],
   "source": [
    "test_df1 = pd.concat([test_df,test_df_target],axis=1)"
   ]
  },
  {
   "cell_type": "code",
   "execution_count": 303,
   "id": "c6140490",
   "metadata": {},
   "outputs": [
    {
     "data": {
      "text/plain": [
       "(20000, 28)"
      ]
     },
     "execution_count": 303,
     "metadata": {},
     "output_type": "execute_result"
    }
   ],
   "source": [
    "test_df1.shape"
   ]
  },
  {
   "cell_type": "code",
   "execution_count": 304,
   "id": "73e6af57",
   "metadata": {},
   "outputs": [
    {
     "data": {
      "text/plain": [
       "addr_state                 0\n",
       "annual_inc                 0\n",
       "earliest_cr_line           0\n",
       "emp_length              1258\n",
       "emp_title               1378\n",
       "fico_range_high            0\n",
       "fico_range_low             0\n",
       "grade                      0\n",
       "home_ownership             0\n",
       "application_type           0\n",
       "initial_list_status        0\n",
       "int_rate                   0\n",
       "loan_amnt                  0\n",
       "num_actv_bc_tl          1011\n",
       "mort_acc                 704\n",
       "tot_cur_bal             1011\n",
       "open_acc                   0\n",
       "pub_rec                    0\n",
       "pub_rec_bankruptcies      11\n",
       "purpose                    0\n",
       "revol_bal                  0\n",
       "revol_util                13\n",
       "sub_grade                  0\n",
       "term                       0\n",
       "title                    247\n",
       "total_acc                  0\n",
       "verification_status        0\n",
       "loan_status                0\n",
       "dtype: int64"
      ]
     },
     "execution_count": 304,
     "metadata": {},
     "output_type": "execute_result"
    }
   ],
   "source": [
    "# Data Prepartaion\n",
    "\n",
    "\n",
    "test_df1.isna().sum()"
   ]
  },
  {
   "cell_type": "code",
   "execution_count": 305,
   "id": "2105eaa3",
   "metadata": {},
   "outputs": [],
   "source": [
    "test_df2 = test_df1.drop(columns= ['addr_state','emp_title','title'])"
   ]
  },
  {
   "cell_type": "code",
   "execution_count": 306,
   "id": "3d83e1b1",
   "metadata": {},
   "outputs": [],
   "source": [
    "#emp_length imputation\n",
    "test_df2['emp_length'] = test_df2['emp_length'].fillna(test_df2['emp_length'].mode()[0])\n",
    "test_df2['emp_length'].replace({'10+ years':'10','< 1 year':'0'},inplace =True)\n",
    "test_df2['emp_length'] = test_df2['emp_length'].str.extract('(\\d+)')\n",
    "test_df2['emp_length'] = test_df2['emp_length'].astype(int)"
   ]
  },
  {
   "cell_type": "code",
   "execution_count": 307,
   "id": "3be2c1ce",
   "metadata": {},
   "outputs": [
    {
     "data": {
      "text/plain": [
       "array([ 1, 10,  9,  0,  2,  4,  3,  8,  7,  5,  6])"
      ]
     },
     "execution_count": 307,
     "metadata": {},
     "output_type": "execute_result"
    }
   ],
   "source": [
    "test_df2['emp_length'].unique()"
   ]
  },
  {
   "cell_type": "code",
   "execution_count": 308,
   "id": "2a2c2c2b",
   "metadata": {},
   "outputs": [],
   "source": [
    "#Imputing with Mode for num_actv_bc_tl\n",
    "test_df2['num_actv_bc_tl'] = test_df2['num_actv_bc_tl'].fillna(test_df2['num_actv_bc_tl'].mode()[0])\n",
    "test_df2['mort_acc'] = test_df2['mort_acc'].fillna(test_df2['mort_acc'].mode()[0])"
   ]
  },
  {
   "cell_type": "code",
   "execution_count": 309,
   "id": "981fe3a9",
   "metadata": {},
   "outputs": [],
   "source": [
    "#Imputing with Median for tot_cur_bal\n",
    "test_df2['tot_cur_bal'] = test_df2['tot_cur_bal'].fillna(test_df2['tot_cur_bal'].median())"
   ]
  },
  {
   "cell_type": "code",
   "execution_count": 310,
   "id": "924eb0ad",
   "metadata": {},
   "outputs": [],
   "source": [
    "test_df2['revol_util'] = test_df2['revol_util'].fillna(test_df2['revol_util'].median())\n",
    "test_df2['pub_rec_bankruptcies'] = test_df2['pub_rec_bankruptcies'].fillna(0)"
   ]
  },
  {
   "cell_type": "code",
   "execution_count": 311,
   "id": "0faa6c3c",
   "metadata": {},
   "outputs": [
    {
     "data": {
      "text/plain": [
       "0"
      ]
     },
     "execution_count": 311,
     "metadata": {},
     "output_type": "execute_result"
    }
   ],
   "source": [
    "test_df2.duplicated().sum()"
   ]
  },
  {
   "cell_type": "code",
   "execution_count": 312,
   "id": "2633da93",
   "metadata": {},
   "outputs": [
    {
     "data": {
      "text/plain": [
       "annual_inc              0\n",
       "earliest_cr_line        0\n",
       "emp_length              0\n",
       "fico_range_high         0\n",
       "fico_range_low          0\n",
       "grade                   0\n",
       "home_ownership          0\n",
       "application_type        0\n",
       "initial_list_status     0\n",
       "int_rate                0\n",
       "loan_amnt               0\n",
       "num_actv_bc_tl          0\n",
       "mort_acc                0\n",
       "tot_cur_bal             0\n",
       "open_acc                0\n",
       "pub_rec                 0\n",
       "pub_rec_bankruptcies    0\n",
       "purpose                 0\n",
       "revol_bal               0\n",
       "revol_util              0\n",
       "sub_grade               0\n",
       "term                    0\n",
       "total_acc               0\n",
       "verification_status     0\n",
       "loan_status             0\n",
       "dtype: int64"
      ]
     },
     "execution_count": 312,
     "metadata": {},
     "output_type": "execute_result"
    }
   ],
   "source": [
    "test_df2.isna().sum()"
   ]
  },
  {
   "cell_type": "code",
   "execution_count": 313,
   "id": "74097c88",
   "metadata": {},
   "outputs": [],
   "source": [
    "# Generating new column for earliest credit date diff\n",
    "\n",
    "test_df2['earliest_cr_line'] = pd.to_datetime(test_df2['earliest_cr_line'])\n",
    "#Assuming Jan 2016 as the base date\n",
    "base_date = pd.to_datetime('Jan-2016')\n",
    "test_df2['no_months'] = ((base_date - test_df2.earliest_cr_line)/np.timedelta64(1, 'M'))\n",
    "test_df2['no_months'] = round(test_df2['no_months'])"
   ]
  },
  {
   "cell_type": "code",
   "execution_count": 314,
   "id": "95738a21",
   "metadata": {},
   "outputs": [],
   "source": [
    "#Dropping earliest_cr_line column\n",
    "test_df2 = test_df2.drop(columns='earliest_cr_line')"
   ]
  },
  {
   "cell_type": "code",
   "execution_count": 315,
   "id": "ea4ed6e3",
   "metadata": {},
   "outputs": [],
   "source": [
    "#Assigning FICO score into buckets\n",
    "conditions_high= [(test_df2['fico_range_high']<=580),(test_df2['fico_range_high']<=669)&(test_df2['fico_range_high']>580),(test_df2['fico_range_high']<=739)&(test_df2['fico_range_high']>669),(test_df2['fico_range_high']<=800)&(test_df2['fico_range_high']>739),(test_df2['fico_range_high']>800)]\n",
    "conditions_low= [(test_df2['fico_range_low']<=580),(test_df2['fico_range_low']<=669)&(test_df2['fico_range_low']>580),(test_df2['fico_range_low']<=739)&(test_df2['fico_range_low']>669),(test_df2['fico_range_low']<=800)&(test_df2['fico_range_low']>739),(test_df2['fico_range_low']>800)]\n",
    "values = [1,2,3,4,5]\n",
    "test_df2['fico_high'] = np.select(conditions_high,values)\n",
    "test_df2['fico_low'] = np.select(conditions_low,values)"
   ]
  },
  {
   "cell_type": "code",
   "execution_count": 316,
   "id": "6e46d473",
   "metadata": {},
   "outputs": [],
   "source": [
    "test_df2 = test_df2.drop(columns=['fico_range_high','fico_range_low'])"
   ]
  },
  {
   "cell_type": "code",
   "execution_count": 317,
   "id": "6d644425",
   "metadata": {},
   "outputs": [],
   "source": [
    "#Since only two possible values are present, assigning categorical label\n",
    "test_df2['term'] = test_df2['term'].replace({' 60 months':'Long', ' 36 months':'Short'})"
   ]
  },
  {
   "cell_type": "code",
   "execution_count": 318,
   "id": "d29f026c",
   "metadata": {},
   "outputs": [
    {
     "data": {
      "text/plain": [
       "array(['Short', 'Long'], dtype=object)"
      ]
     },
     "execution_count": 318,
     "metadata": {},
     "output_type": "execute_result"
    }
   ],
   "source": [
    "test_df2['term'].unique()"
   ]
  },
  {
   "cell_type": "code",
   "execution_count": 319,
   "id": "dea9391e",
   "metadata": {},
   "outputs": [],
   "source": [
    "num_col_test = test_df2.drop(columns='loan_status').select_dtypes(include=np.number).columns\n",
    "cat_col_test = test_df2.select_dtypes(exclude=np.number).columns\n",
    "\n",
    "df_target_test = test_df2[['loan_status']]\n",
    "df_num_test = test_df2[num_col_test]\n",
    "df_cat_test = test_df2[cat_col_test]"
   ]
  },
  {
   "cell_type": "code",
   "execution_count": 320,
   "id": "a77d7104",
   "metadata": {},
   "outputs": [
    {
     "data": {
      "text/html": [
       "<div>\n",
       "<style scoped>\n",
       "    .dataframe tbody tr th:only-of-type {\n",
       "        vertical-align: middle;\n",
       "    }\n",
       "\n",
       "    .dataframe tbody tr th {\n",
       "        vertical-align: top;\n",
       "    }\n",
       "\n",
       "    .dataframe thead th {\n",
       "        text-align: right;\n",
       "    }\n",
       "</style>\n",
       "<table border=\"1\" class=\"dataframe\">\n",
       "  <thead>\n",
       "    <tr style=\"text-align: right;\">\n",
       "      <th></th>\n",
       "      <th>loan_status</th>\n",
       "    </tr>\n",
       "  </thead>\n",
       "  <tbody>\n",
       "    <tr>\n",
       "      <th>0</th>\n",
       "      <td>1</td>\n",
       "    </tr>\n",
       "    <tr>\n",
       "      <th>1</th>\n",
       "      <td>1</td>\n",
       "    </tr>\n",
       "    <tr>\n",
       "      <th>2</th>\n",
       "      <td>1</td>\n",
       "    </tr>\n",
       "    <tr>\n",
       "      <th>3</th>\n",
       "      <td>0</td>\n",
       "    </tr>\n",
       "    <tr>\n",
       "      <th>4</th>\n",
       "      <td>1</td>\n",
       "    </tr>\n",
       "    <tr>\n",
       "      <th>...</th>\n",
       "      <td>...</td>\n",
       "    </tr>\n",
       "    <tr>\n",
       "      <th>19995</th>\n",
       "      <td>1</td>\n",
       "    </tr>\n",
       "    <tr>\n",
       "      <th>19996</th>\n",
       "      <td>1</td>\n",
       "    </tr>\n",
       "    <tr>\n",
       "      <th>19997</th>\n",
       "      <td>1</td>\n",
       "    </tr>\n",
       "    <tr>\n",
       "      <th>19998</th>\n",
       "      <td>1</td>\n",
       "    </tr>\n",
       "    <tr>\n",
       "      <th>19999</th>\n",
       "      <td>1</td>\n",
       "    </tr>\n",
       "  </tbody>\n",
       "</table>\n",
       "<p>20000 rows × 1 columns</p>\n",
       "</div>"
      ],
      "text/plain": [
       "       loan_status\n",
       "0                1\n",
       "1                1\n",
       "2                1\n",
       "3                0\n",
       "4                1\n",
       "...            ...\n",
       "19995            1\n",
       "19996            1\n",
       "19997            1\n",
       "19998            1\n",
       "19999            1\n",
       "\n",
       "[20000 rows x 1 columns]"
      ]
     },
     "execution_count": 320,
     "metadata": {},
     "output_type": "execute_result"
    }
   ],
   "source": [
    "df_target_test"
   ]
  },
  {
   "cell_type": "code",
   "execution_count": 321,
   "id": "16405caa",
   "metadata": {},
   "outputs": [
    {
     "data": {
      "text/html": [
       "<div>\n",
       "<style scoped>\n",
       "    .dataframe tbody tr th:only-of-type {\n",
       "        vertical-align: middle;\n",
       "    }\n",
       "\n",
       "    .dataframe tbody tr th {\n",
       "        vertical-align: top;\n",
       "    }\n",
       "\n",
       "    .dataframe thead th {\n",
       "        text-align: right;\n",
       "    }\n",
       "</style>\n",
       "<table border=\"1\" class=\"dataframe\">\n",
       "  <thead>\n",
       "    <tr style=\"text-align: right;\">\n",
       "      <th></th>\n",
       "      <th>annual_inc</th>\n",
       "      <th>emp_length</th>\n",
       "      <th>int_rate</th>\n",
       "      <th>loan_amnt</th>\n",
       "      <th>num_actv_bc_tl</th>\n",
       "      <th>mort_acc</th>\n",
       "      <th>tot_cur_bal</th>\n",
       "      <th>open_acc</th>\n",
       "      <th>pub_rec</th>\n",
       "      <th>pub_rec_bankruptcies</th>\n",
       "      <th>revol_bal</th>\n",
       "      <th>revol_util</th>\n",
       "      <th>total_acc</th>\n",
       "      <th>no_months</th>\n",
       "      <th>fico_high</th>\n",
       "      <th>fico_low</th>\n",
       "    </tr>\n",
       "  </thead>\n",
       "  <tbody>\n",
       "    <tr>\n",
       "      <th>0</th>\n",
       "      <td>50000.0</td>\n",
       "      <td>1</td>\n",
       "      <td>13.99</td>\n",
       "      <td>5000.0</td>\n",
       "      <td>1.0</td>\n",
       "      <td>0.0</td>\n",
       "      <td>33395.0</td>\n",
       "      <td>9.0</td>\n",
       "      <td>0.0</td>\n",
       "      <td>0.0</td>\n",
       "      <td>2568.0</td>\n",
       "      <td>9.8</td>\n",
       "      <td>11.0</td>\n",
       "      <td>44.0</td>\n",
       "      <td>3</td>\n",
       "      <td>3</td>\n",
       "    </tr>\n",
       "    <tr>\n",
       "      <th>1</th>\n",
       "      <td>92000.0</td>\n",
       "      <td>10</td>\n",
       "      <td>10.99</td>\n",
       "      <td>30000.0</td>\n",
       "      <td>2.0</td>\n",
       "      <td>2.0</td>\n",
       "      <td>229832.0</td>\n",
       "      <td>11.0</td>\n",
       "      <td>0.0</td>\n",
       "      <td>0.0</td>\n",
       "      <td>30394.0</td>\n",
       "      <td>75.4</td>\n",
       "      <td>35.0</td>\n",
       "      <td>169.0</td>\n",
       "      <td>3</td>\n",
       "      <td>3</td>\n",
       "    </tr>\n",
       "    <tr>\n",
       "      <th>2</th>\n",
       "      <td>89000.0</td>\n",
       "      <td>10</td>\n",
       "      <td>10.15</td>\n",
       "      <td>16000.0</td>\n",
       "      <td>5.0</td>\n",
       "      <td>2.0</td>\n",
       "      <td>181616.0</td>\n",
       "      <td>15.0</td>\n",
       "      <td>0.0</td>\n",
       "      <td>0.0</td>\n",
       "      <td>38400.0</td>\n",
       "      <td>75.3</td>\n",
       "      <td>41.0</td>\n",
       "      <td>322.0</td>\n",
       "      <td>3</td>\n",
       "      <td>3</td>\n",
       "    </tr>\n",
       "    <tr>\n",
       "      <th>3</th>\n",
       "      <td>33000.0</td>\n",
       "      <td>9</td>\n",
       "      <td>13.68</td>\n",
       "      <td>10000.0</td>\n",
       "      <td>6.0</td>\n",
       "      <td>0.0</td>\n",
       "      <td>30603.0</td>\n",
       "      <td>12.0</td>\n",
       "      <td>1.0</td>\n",
       "      <td>1.0</td>\n",
       "      <td>21224.0</td>\n",
       "      <td>69.4</td>\n",
       "      <td>16.0</td>\n",
       "      <td>134.0</td>\n",
       "      <td>3</td>\n",
       "      <td>3</td>\n",
       "    </tr>\n",
       "    <tr>\n",
       "      <th>4</th>\n",
       "      <td>35580.0</td>\n",
       "      <td>10</td>\n",
       "      <td>14.09</td>\n",
       "      <td>4000.0</td>\n",
       "      <td>2.0</td>\n",
       "      <td>4.0</td>\n",
       "      <td>124597.0</td>\n",
       "      <td>8.0</td>\n",
       "      <td>0.0</td>\n",
       "      <td>0.0</td>\n",
       "      <td>3471.0</td>\n",
       "      <td>39.4</td>\n",
       "      <td>19.0</td>\n",
       "      <td>227.0</td>\n",
       "      <td>3</td>\n",
       "      <td>3</td>\n",
       "    </tr>\n",
       "    <tr>\n",
       "      <th>...</th>\n",
       "      <td>...</td>\n",
       "      <td>...</td>\n",
       "      <td>...</td>\n",
       "      <td>...</td>\n",
       "      <td>...</td>\n",
       "      <td>...</td>\n",
       "      <td>...</td>\n",
       "      <td>...</td>\n",
       "      <td>...</td>\n",
       "      <td>...</td>\n",
       "      <td>...</td>\n",
       "      <td>...</td>\n",
       "      <td>...</td>\n",
       "      <td>...</td>\n",
       "      <td>...</td>\n",
       "      <td>...</td>\n",
       "    </tr>\n",
       "    <tr>\n",
       "      <th>19995</th>\n",
       "      <td>38500.0</td>\n",
       "      <td>4</td>\n",
       "      <td>17.57</td>\n",
       "      <td>10000.0</td>\n",
       "      <td>1.0</td>\n",
       "      <td>0.0</td>\n",
       "      <td>30397.0</td>\n",
       "      <td>10.0</td>\n",
       "      <td>0.0</td>\n",
       "      <td>0.0</td>\n",
       "      <td>5816.0</td>\n",
       "      <td>60.0</td>\n",
       "      <td>10.0</td>\n",
       "      <td>64.0</td>\n",
       "      <td>3</td>\n",
       "      <td>3</td>\n",
       "    </tr>\n",
       "    <tr>\n",
       "      <th>19996</th>\n",
       "      <td>80000.0</td>\n",
       "      <td>3</td>\n",
       "      <td>18.92</td>\n",
       "      <td>18375.0</td>\n",
       "      <td>2.0</td>\n",
       "      <td>5.0</td>\n",
       "      <td>494439.0</td>\n",
       "      <td>9.0</td>\n",
       "      <td>0.0</td>\n",
       "      <td>0.0</td>\n",
       "      <td>13886.0</td>\n",
       "      <td>75.1</td>\n",
       "      <td>30.0</td>\n",
       "      <td>205.0</td>\n",
       "      <td>3</td>\n",
       "      <td>3</td>\n",
       "    </tr>\n",
       "    <tr>\n",
       "      <th>19997</th>\n",
       "      <td>95000.0</td>\n",
       "      <td>10</td>\n",
       "      <td>11.22</td>\n",
       "      <td>35000.0</td>\n",
       "      <td>2.0</td>\n",
       "      <td>4.0</td>\n",
       "      <td>284915.0</td>\n",
       "      <td>10.0</td>\n",
       "      <td>0.0</td>\n",
       "      <td>0.0</td>\n",
       "      <td>43166.0</td>\n",
       "      <td>60.7</td>\n",
       "      <td>29.0</td>\n",
       "      <td>236.0</td>\n",
       "      <td>3</td>\n",
       "      <td>3</td>\n",
       "    </tr>\n",
       "    <tr>\n",
       "      <th>19998</th>\n",
       "      <td>35000.0</td>\n",
       "      <td>10</td>\n",
       "      <td>7.89</td>\n",
       "      <td>5000.0</td>\n",
       "      <td>1.0</td>\n",
       "      <td>0.0</td>\n",
       "      <td>8205.0</td>\n",
       "      <td>9.0</td>\n",
       "      <td>0.0</td>\n",
       "      <td>0.0</td>\n",
       "      <td>1110.0</td>\n",
       "      <td>4.4</td>\n",
       "      <td>19.0</td>\n",
       "      <td>154.0</td>\n",
       "      <td>5</td>\n",
       "      <td>5</td>\n",
       "    </tr>\n",
       "    <tr>\n",
       "      <th>19999</th>\n",
       "      <td>30700.0</td>\n",
       "      <td>0</td>\n",
       "      <td>18.25</td>\n",
       "      <td>10000.0</td>\n",
       "      <td>6.0</td>\n",
       "      <td>0.0</td>\n",
       "      <td>48212.0</td>\n",
       "      <td>13.0</td>\n",
       "      <td>0.0</td>\n",
       "      <td>0.0</td>\n",
       "      <td>8910.0</td>\n",
       "      <td>78.8</td>\n",
       "      <td>19.0</td>\n",
       "      <td>261.0</td>\n",
       "      <td>2</td>\n",
       "      <td>2</td>\n",
       "    </tr>\n",
       "  </tbody>\n",
       "</table>\n",
       "<p>20000 rows × 16 columns</p>\n",
       "</div>"
      ],
      "text/plain": [
       "       annual_inc  emp_length  int_rate  loan_amnt  num_actv_bc_tl  mort_acc  \\\n",
       "0         50000.0           1     13.99     5000.0             1.0       0.0   \n",
       "1         92000.0          10     10.99    30000.0             2.0       2.0   \n",
       "2         89000.0          10     10.15    16000.0             5.0       2.0   \n",
       "3         33000.0           9     13.68    10000.0             6.0       0.0   \n",
       "4         35580.0          10     14.09     4000.0             2.0       4.0   \n",
       "...           ...         ...       ...        ...             ...       ...   \n",
       "19995     38500.0           4     17.57    10000.0             1.0       0.0   \n",
       "19996     80000.0           3     18.92    18375.0             2.0       5.0   \n",
       "19997     95000.0          10     11.22    35000.0             2.0       4.0   \n",
       "19998     35000.0          10      7.89     5000.0             1.0       0.0   \n",
       "19999     30700.0           0     18.25    10000.0             6.0       0.0   \n",
       "\n",
       "       tot_cur_bal  open_acc  pub_rec  pub_rec_bankruptcies  revol_bal  \\\n",
       "0          33395.0       9.0      0.0                   0.0     2568.0   \n",
       "1         229832.0      11.0      0.0                   0.0    30394.0   \n",
       "2         181616.0      15.0      0.0                   0.0    38400.0   \n",
       "3          30603.0      12.0      1.0                   1.0    21224.0   \n",
       "4         124597.0       8.0      0.0                   0.0     3471.0   \n",
       "...            ...       ...      ...                   ...        ...   \n",
       "19995      30397.0      10.0      0.0                   0.0     5816.0   \n",
       "19996     494439.0       9.0      0.0                   0.0    13886.0   \n",
       "19997     284915.0      10.0      0.0                   0.0    43166.0   \n",
       "19998       8205.0       9.0      0.0                   0.0     1110.0   \n",
       "19999      48212.0      13.0      0.0                   0.0     8910.0   \n",
       "\n",
       "       revol_util  total_acc  no_months  fico_high  fico_low  \n",
       "0             9.8       11.0       44.0          3         3  \n",
       "1            75.4       35.0      169.0          3         3  \n",
       "2            75.3       41.0      322.0          3         3  \n",
       "3            69.4       16.0      134.0          3         3  \n",
       "4            39.4       19.0      227.0          3         3  \n",
       "...           ...        ...        ...        ...       ...  \n",
       "19995        60.0       10.0       64.0          3         3  \n",
       "19996        75.1       30.0      205.0          3         3  \n",
       "19997        60.7       29.0      236.0          3         3  \n",
       "19998         4.4       19.0      154.0          5         5  \n",
       "19999        78.8       19.0      261.0          2         2  \n",
       "\n",
       "[20000 rows x 16 columns]"
      ]
     },
     "execution_count": 321,
     "metadata": {},
     "output_type": "execute_result"
    }
   ],
   "source": [
    "df_num_test"
   ]
  },
  {
   "cell_type": "code",
   "execution_count": 322,
   "id": "7841e4f9",
   "metadata": {},
   "outputs": [
    {
     "data": {
      "text/html": [
       "<div>\n",
       "<style scoped>\n",
       "    .dataframe tbody tr th:only-of-type {\n",
       "        vertical-align: middle;\n",
       "    }\n",
       "\n",
       "    .dataframe tbody tr th {\n",
       "        vertical-align: top;\n",
       "    }\n",
       "\n",
       "    .dataframe thead th {\n",
       "        text-align: right;\n",
       "    }\n",
       "</style>\n",
       "<table border=\"1\" class=\"dataframe\">\n",
       "  <thead>\n",
       "    <tr style=\"text-align: right;\">\n",
       "      <th></th>\n",
       "      <th>grade</th>\n",
       "      <th>home_ownership</th>\n",
       "      <th>application_type</th>\n",
       "      <th>initial_list_status</th>\n",
       "      <th>purpose</th>\n",
       "      <th>sub_grade</th>\n",
       "      <th>term</th>\n",
       "      <th>verification_status</th>\n",
       "    </tr>\n",
       "  </thead>\n",
       "  <tbody>\n",
       "    <tr>\n",
       "      <th>0</th>\n",
       "      <td>C</td>\n",
       "      <td>OWN</td>\n",
       "      <td>Individual</td>\n",
       "      <td>f</td>\n",
       "      <td>debt_consolidation</td>\n",
       "      <td>C4</td>\n",
       "      <td>Short</td>\n",
       "      <td>Source Verified</td>\n",
       "    </tr>\n",
       "    <tr>\n",
       "      <th>1</th>\n",
       "      <td>B</td>\n",
       "      <td>RENT</td>\n",
       "      <td>Individual</td>\n",
       "      <td>f</td>\n",
       "      <td>debt_consolidation</td>\n",
       "      <td>B2</td>\n",
       "      <td>Short</td>\n",
       "      <td>Source Verified</td>\n",
       "    </tr>\n",
       "    <tr>\n",
       "      <th>2</th>\n",
       "      <td>B</td>\n",
       "      <td>MORTGAGE</td>\n",
       "      <td>Individual</td>\n",
       "      <td>w</td>\n",
       "      <td>credit_card</td>\n",
       "      <td>B2</td>\n",
       "      <td>Long</td>\n",
       "      <td>Not Verified</td>\n",
       "    </tr>\n",
       "    <tr>\n",
       "      <th>3</th>\n",
       "      <td>C</td>\n",
       "      <td>RENT</td>\n",
       "      <td>Individual</td>\n",
       "      <td>f</td>\n",
       "      <td>debt_consolidation</td>\n",
       "      <td>C1</td>\n",
       "      <td>Short</td>\n",
       "      <td>Not Verified</td>\n",
       "    </tr>\n",
       "    <tr>\n",
       "      <th>4</th>\n",
       "      <td>B</td>\n",
       "      <td>MORTGAGE</td>\n",
       "      <td>Individual</td>\n",
       "      <td>f</td>\n",
       "      <td>debt_consolidation</td>\n",
       "      <td>B5</td>\n",
       "      <td>Short</td>\n",
       "      <td>Verified</td>\n",
       "    </tr>\n",
       "    <tr>\n",
       "      <th>...</th>\n",
       "      <td>...</td>\n",
       "      <td>...</td>\n",
       "      <td>...</td>\n",
       "      <td>...</td>\n",
       "      <td>...</td>\n",
       "      <td>...</td>\n",
       "      <td>...</td>\n",
       "      <td>...</td>\n",
       "    </tr>\n",
       "    <tr>\n",
       "      <th>19995</th>\n",
       "      <td>D</td>\n",
       "      <td>RENT</td>\n",
       "      <td>Individual</td>\n",
       "      <td>w</td>\n",
       "      <td>debt_consolidation</td>\n",
       "      <td>D4</td>\n",
       "      <td>Short</td>\n",
       "      <td>Not Verified</td>\n",
       "    </tr>\n",
       "    <tr>\n",
       "      <th>19996</th>\n",
       "      <td>D</td>\n",
       "      <td>MORTGAGE</td>\n",
       "      <td>Individual</td>\n",
       "      <td>f</td>\n",
       "      <td>debt_consolidation</td>\n",
       "      <td>D4</td>\n",
       "      <td>Long</td>\n",
       "      <td>Source Verified</td>\n",
       "    </tr>\n",
       "    <tr>\n",
       "      <th>19997</th>\n",
       "      <td>B</td>\n",
       "      <td>MORTGAGE</td>\n",
       "      <td>Individual</td>\n",
       "      <td>f</td>\n",
       "      <td>debt_consolidation</td>\n",
       "      <td>B5</td>\n",
       "      <td>Short</td>\n",
       "      <td>Source Verified</td>\n",
       "    </tr>\n",
       "    <tr>\n",
       "      <th>19998</th>\n",
       "      <td>A</td>\n",
       "      <td>MORTGAGE</td>\n",
       "      <td>Individual</td>\n",
       "      <td>w</td>\n",
       "      <td>car</td>\n",
       "      <td>A5</td>\n",
       "      <td>Short</td>\n",
       "      <td>Not Verified</td>\n",
       "    </tr>\n",
       "    <tr>\n",
       "      <th>19999</th>\n",
       "      <td>E</td>\n",
       "      <td>MORTGAGE</td>\n",
       "      <td>Individual</td>\n",
       "      <td>f</td>\n",
       "      <td>debt_consolidation</td>\n",
       "      <td>E1</td>\n",
       "      <td>Long</td>\n",
       "      <td>Verified</td>\n",
       "    </tr>\n",
       "  </tbody>\n",
       "</table>\n",
       "<p>20000 rows × 8 columns</p>\n",
       "</div>"
      ],
      "text/plain": [
       "      grade home_ownership application_type initial_list_status  \\\n",
       "0         C            OWN       Individual                   f   \n",
       "1         B           RENT       Individual                   f   \n",
       "2         B       MORTGAGE       Individual                   w   \n",
       "3         C           RENT       Individual                   f   \n",
       "4         B       MORTGAGE       Individual                   f   \n",
       "...     ...            ...              ...                 ...   \n",
       "19995     D           RENT       Individual                   w   \n",
       "19996     D       MORTGAGE       Individual                   f   \n",
       "19997     B       MORTGAGE       Individual                   f   \n",
       "19998     A       MORTGAGE       Individual                   w   \n",
       "19999     E       MORTGAGE       Individual                   f   \n",
       "\n",
       "                  purpose sub_grade   term verification_status  \n",
       "0      debt_consolidation        C4  Short     Source Verified  \n",
       "1      debt_consolidation        B2  Short     Source Verified  \n",
       "2             credit_card        B2   Long        Not Verified  \n",
       "3      debt_consolidation        C1  Short        Not Verified  \n",
       "4      debt_consolidation        B5  Short            Verified  \n",
       "...                   ...       ...    ...                 ...  \n",
       "19995  debt_consolidation        D4  Short        Not Verified  \n",
       "19996  debt_consolidation        D4   Long     Source Verified  \n",
       "19997  debt_consolidation        B5  Short     Source Verified  \n",
       "19998                 car        A5  Short        Not Verified  \n",
       "19999  debt_consolidation        E1   Long            Verified  \n",
       "\n",
       "[20000 rows x 8 columns]"
      ]
     },
     "execution_count": 322,
     "metadata": {},
     "output_type": "execute_result"
    }
   ],
   "source": [
    "df_cat_test"
   ]
  },
  {
   "cell_type": "code",
   "execution_count": 323,
   "id": "c7ad0182",
   "metadata": {},
   "outputs": [],
   "source": [
    "#Encoding Categorical Variables\n",
    "df_cat_test2 = pd.get_dummies(df_cat_test)"
   ]
  },
  {
   "cell_type": "code",
   "execution_count": 324,
   "id": "bf6d8122",
   "metadata": {},
   "outputs": [],
   "source": [
    "#Scaling Numerical data\n",
    "min_max_scaler = preprocessing.MinMaxScaler()\n",
    "df_num_test_scaled = min_max_scaler.fit_transform(df_num_test)\n",
    "df_num_test_scaled = pd.DataFrame(df_num_test_scaled,columns=df_num_test.columns)"
   ]
  },
  {
   "cell_type": "code",
   "execution_count": 325,
   "id": "31def45b",
   "metadata": {},
   "outputs": [],
   "source": [
    "df_test_final = pd.concat([df_num_test_scaled.reset_index(drop=True),df_cat_test2.reset_index(drop=True),df_target_test.reset_index(drop=True)],axis=1)"
   ]
  },
  {
   "cell_type": "code",
   "execution_count": 326,
   "id": "d69a1b14",
   "metadata": {},
   "outputs": [
    {
     "data": {
      "text/plain": [
       "(20000, 86)"
      ]
     },
     "execution_count": 326,
     "metadata": {},
     "output_type": "execute_result"
    }
   ],
   "source": [
    "df_test_final.shape"
   ]
  },
  {
   "cell_type": "code",
   "execution_count": 327,
   "id": "ab883476",
   "metadata": {},
   "outputs": [
    {
     "data": {
      "text/plain": [
       "Index(['annual_inc', 'emp_length', 'int_rate', 'loan_amnt', 'num_actv_bc_tl',\n",
       "       'mort_acc', 'tot_cur_bal', 'open_acc', 'pub_rec',\n",
       "       'pub_rec_bankruptcies', 'revol_bal', 'revol_util', 'total_acc',\n",
       "       'no_months', 'fico_high', 'fico_low', 'grade_A', 'grade_B', 'grade_C',\n",
       "       'grade_D', 'grade_E', 'grade_F', 'grade_G', 'home_ownership_ANY',\n",
       "       'home_ownership_MORTGAGE', 'home_ownership_OWN', 'home_ownership_RENT',\n",
       "       'application_type_Individual', 'application_type_Joint App',\n",
       "       'initial_list_status_f', 'initial_list_status_w', 'purpose_car',\n",
       "       'purpose_credit_card', 'purpose_debt_consolidation',\n",
       "       'purpose_educational', 'purpose_home_improvement', 'purpose_house',\n",
       "       'purpose_major_purchase', 'purpose_medical', 'purpose_moving',\n",
       "       'purpose_other', 'purpose_renewable_energy', 'purpose_small_business',\n",
       "       'purpose_vacation', 'purpose_wedding', 'sub_grade_A1', 'sub_grade_A2',\n",
       "       'sub_grade_A3', 'sub_grade_A4', 'sub_grade_A5', 'sub_grade_B1',\n",
       "       'sub_grade_B2', 'sub_grade_B3', 'sub_grade_B4', 'sub_grade_B5',\n",
       "       'sub_grade_C1', 'sub_grade_C2', 'sub_grade_C3', 'sub_grade_C4',\n",
       "       'sub_grade_C5', 'sub_grade_D1', 'sub_grade_D2', 'sub_grade_D3',\n",
       "       'sub_grade_D4', 'sub_grade_D5', 'sub_grade_E1', 'sub_grade_E2',\n",
       "       'sub_grade_E3', 'sub_grade_E4', 'sub_grade_E5', 'sub_grade_F1',\n",
       "       'sub_grade_F2', 'sub_grade_F3', 'sub_grade_F4', 'sub_grade_F5',\n",
       "       'sub_grade_G1', 'sub_grade_G2', 'sub_grade_G3', 'sub_grade_G4',\n",
       "       'sub_grade_G5', 'term_Long', 'term_Short',\n",
       "       'verification_status_Not Verified',\n",
       "       'verification_status_Source Verified', 'verification_status_Verified',\n",
       "       'loan_status'],\n",
       "      dtype='object')"
      ]
     },
     "execution_count": 327,
     "metadata": {},
     "output_type": "execute_result"
    }
   ],
   "source": [
    "df_test_final.columns\n"
   ]
  },
  {
   "cell_type": "code",
   "execution_count": 328,
   "id": "d71125a9",
   "metadata": {},
   "outputs": [
    {
     "data": {
      "text/plain": [
       "['home_ownership_NONE', 'home_ownership_OTHER']"
      ]
     },
     "execution_count": 328,
     "metadata": {},
     "output_type": "execute_result"
    }
   ],
   "source": [
    "[y for y in list(df_final.columns) if y not in list(df_test_final.columns)]"
   ]
  },
  {
   "cell_type": "code",
   "execution_count": 329,
   "id": "9815f11e",
   "metadata": {},
   "outputs": [],
   "source": [
    "#Creating blank columns\n",
    "df_test_final['home_ownership_NONE'] = 0 \n",
    "df_test_final['home_ownership_OTHER'] = 0"
   ]
  },
  {
   "cell_type": "code",
   "execution_count": 342,
   "id": "335ce5a9",
   "metadata": {},
   "outputs": [],
   "source": [
    "X_loan_test = df_test_final[train_X.columns]\n",
    "y_loan_test = df_test_final['loan_status']"
   ]
  },
  {
   "cell_type": "code",
   "execution_count": 343,
   "id": "7c126002",
   "metadata": {},
   "outputs": [],
   "source": [
    "#model.fit(X_loan_test,y_loan_test)"
   ]
  },
  {
   "cell_type": "code",
   "execution_count": 356,
   "id": "52ebc0a0",
   "metadata": {},
   "outputs": [],
   "source": [
    "loan_pred = model.predict(X_loan_test)"
   ]
  },
  {
   "cell_type": "code",
   "execution_count": 357,
   "id": "3272a31b",
   "metadata": {},
   "outputs": [
    {
     "name": "stdout",
     "output_type": "stream",
     "text": [
      "              precision    recall  f1-score   support\n",
      "\n",
      "           0       0.32      0.55      0.41      3993\n",
      "           1       0.86      0.71      0.78     16007\n",
      "\n",
      "    accuracy                           0.68     20000\n",
      "   macro avg       0.59      0.63      0.59     20000\n",
      "weighted avg       0.76      0.68      0.70     20000\n",
      "\n"
     ]
    }
   ],
   "source": [
    "print(classification_report(y_loan_test, loan_pred))"
   ]
  },
  {
   "cell_type": "code",
   "execution_count": 338,
   "id": "99313eea",
   "metadata": {},
   "outputs": [
    {
     "data": {
      "text/plain": [
       "Index(['annual_inc', 'emp_length', 'int_rate', 'loan_amnt', 'num_actv_bc_tl',\n",
       "       'mort_acc', 'tot_cur_bal', 'open_acc', 'pub_rec',\n",
       "       'pub_rec_bankruptcies', 'revol_bal', 'revol_util', 'total_acc',\n",
       "       'no_months', 'fico_high', 'fico_low', 'grade_A', 'grade_B', 'grade_C',\n",
       "       'grade_D', 'grade_E', 'grade_F', 'grade_G', 'home_ownership_ANY',\n",
       "       'home_ownership_MORTGAGE', 'home_ownership_OWN', 'home_ownership_RENT',\n",
       "       'application_type_Individual', 'application_type_Joint App',\n",
       "       'initial_list_status_f', 'initial_list_status_w', 'purpose_car',\n",
       "       'purpose_credit_card', 'purpose_debt_consolidation',\n",
       "       'purpose_educational', 'purpose_home_improvement', 'purpose_house',\n",
       "       'purpose_major_purchase', 'purpose_medical', 'purpose_moving',\n",
       "       'purpose_other', 'purpose_renewable_energy', 'purpose_small_business',\n",
       "       'purpose_vacation', 'purpose_wedding', 'sub_grade_A1', 'sub_grade_A2',\n",
       "       'sub_grade_A3', 'sub_grade_A4', 'sub_grade_A5', 'sub_grade_B1',\n",
       "       'sub_grade_B2', 'sub_grade_B3', 'sub_grade_B4', 'sub_grade_B5',\n",
       "       'sub_grade_C1', 'sub_grade_C2', 'sub_grade_C3', 'sub_grade_C4',\n",
       "       'sub_grade_C5', 'sub_grade_D1', 'sub_grade_D2', 'sub_grade_D3',\n",
       "       'sub_grade_D4', 'sub_grade_D5', 'sub_grade_E1', 'sub_grade_E2',\n",
       "       'sub_grade_E3', 'sub_grade_E4', 'sub_grade_E5', 'sub_grade_F1',\n",
       "       'sub_grade_F2', 'sub_grade_F3', 'sub_grade_F4', 'sub_grade_F5',\n",
       "       'sub_grade_G1', 'sub_grade_G2', 'sub_grade_G3', 'sub_grade_G4',\n",
       "       'sub_grade_G5', 'term_Long', 'term_Short',\n",
       "       'verification_status_Not Verified',\n",
       "       'verification_status_Source Verified', 'verification_status_Verified',\n",
       "       'home_ownership_NONE', 'home_ownership_OTHER'],\n",
       "      dtype='object')"
      ]
     },
     "execution_count": 338,
     "metadata": {},
     "output_type": "execute_result"
    }
   ],
   "source": [
    "X_loan_test.columns\n"
   ]
  },
  {
   "cell_type": "code",
   "execution_count": 339,
   "id": "d2f60cb6",
   "metadata": {},
   "outputs": [
    {
     "data": {
      "text/plain": [
       "Index(['annual_inc', 'emp_length', 'int_rate', 'loan_amnt', 'num_actv_bc_tl',\n",
       "       'mort_acc', 'tot_cur_bal', 'open_acc', 'pub_rec',\n",
       "       'pub_rec_bankruptcies', 'revol_bal', 'revol_util', 'total_acc',\n",
       "       'no_months', 'fico_high', 'fico_low', 'grade_A', 'grade_B', 'grade_C',\n",
       "       'grade_D', 'grade_E', 'grade_F', 'grade_G', 'home_ownership_ANY',\n",
       "       'home_ownership_MORTGAGE', 'home_ownership_NONE',\n",
       "       'home_ownership_OTHER', 'home_ownership_OWN', 'home_ownership_RENT',\n",
       "       'application_type_Individual', 'application_type_Joint App',\n",
       "       'initial_list_status_f', 'initial_list_status_w', 'purpose_car',\n",
       "       'purpose_credit_card', 'purpose_debt_consolidation',\n",
       "       'purpose_educational', 'purpose_home_improvement', 'purpose_house',\n",
       "       'purpose_major_purchase', 'purpose_medical', 'purpose_moving',\n",
       "       'purpose_other', 'purpose_renewable_energy', 'purpose_small_business',\n",
       "       'purpose_vacation', 'purpose_wedding', 'sub_grade_A1', 'sub_grade_A2',\n",
       "       'sub_grade_A3', 'sub_grade_A4', 'sub_grade_A5', 'sub_grade_B1',\n",
       "       'sub_grade_B2', 'sub_grade_B3', 'sub_grade_B4', 'sub_grade_B5',\n",
       "       'sub_grade_C1', 'sub_grade_C2', 'sub_grade_C3', 'sub_grade_C4',\n",
       "       'sub_grade_C5', 'sub_grade_D1', 'sub_grade_D2', 'sub_grade_D3',\n",
       "       'sub_grade_D4', 'sub_grade_D5', 'sub_grade_E1', 'sub_grade_E2',\n",
       "       'sub_grade_E3', 'sub_grade_E4', 'sub_grade_E5', 'sub_grade_F1',\n",
       "       'sub_grade_F2', 'sub_grade_F3', 'sub_grade_F4', 'sub_grade_F5',\n",
       "       'sub_grade_G1', 'sub_grade_G2', 'sub_grade_G3', 'sub_grade_G4',\n",
       "       'sub_grade_G5', 'term_Long', 'term_Short',\n",
       "       'verification_status_Not Verified',\n",
       "       'verification_status_Source Verified', 'verification_status_Verified'],\n",
       "      dtype='object')"
      ]
     },
     "execution_count": 339,
     "metadata": {},
     "output_type": "execute_result"
    }
   ],
   "source": [
    "train_X.columns"
   ]
  },
  {
   "cell_type": "code",
   "execution_count": 341,
   "id": "0536248c",
   "metadata": {},
   "outputs": [
    {
     "data": {
      "text/plain": [
       "[]"
      ]
     },
     "execution_count": 341,
     "metadata": {},
     "output_type": "execute_result"
    }
   ],
   "source": [
    "[y for y in list(X_loan_test.columns) if y not in list(train_X.columns)]"
   ]
  },
  {
   "cell_type": "code",
   "execution_count": null,
   "id": "d4fda2f4",
   "metadata": {},
   "outputs": [],
   "source": []
  },
  {
   "cell_type": "code",
   "execution_count": null,
   "id": "164ac484",
   "metadata": {},
   "outputs": [],
   "source": []
  },
  {
   "cell_type": "code",
   "execution_count": null,
   "id": "2008397e",
   "metadata": {},
   "outputs": [],
   "source": []
  },
  {
   "cell_type": "code",
   "execution_count": null,
   "id": "216bf6ea",
   "metadata": {},
   "outputs": [],
   "source": []
  },
  {
   "cell_type": "code",
   "execution_count": null,
   "id": "ad6c75fc",
   "metadata": {},
   "outputs": [],
   "source": []
  },
  {
   "cell_type": "code",
   "execution_count": null,
   "id": "785ae8ef",
   "metadata": {},
   "outputs": [],
   "source": []
  },
  {
   "cell_type": "code",
   "execution_count": null,
   "id": "e9521540",
   "metadata": {},
   "outputs": [],
   "source": []
  },
  {
   "cell_type": "code",
   "execution_count": null,
   "id": "6fec49ac",
   "metadata": {},
   "outputs": [],
   "source": []
  },
  {
   "cell_type": "code",
   "execution_count": null,
   "id": "89943231",
   "metadata": {},
   "outputs": [],
   "source": []
  }
 ],
 "metadata": {
  "kernelspec": {
   "display_name": "Python 3 (ipykernel)",
   "language": "python",
   "name": "python3"
  },
  "language_info": {
   "codemirror_mode": {
    "name": "ipython",
    "version": 3
   },
   "file_extension": ".py",
   "mimetype": "text/x-python",
   "name": "python",
   "nbconvert_exporter": "python",
   "pygments_lexer": "ipython3",
   "version": "3.10.9"
  }
 },
 "nbformat": 4,
 "nbformat_minor": 5
}
